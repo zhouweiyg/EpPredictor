{
 "cells": [
  {
   "cell_type": "code",
   "execution_count": 3,
   "metadata": {
    "ExecuteTime": {
     "end_time": "2019-09-23T04:36:47.986290Z",
     "start_time": "2019-09-23T04:36:47.978855Z"
    }
   },
   "outputs": [],
   "source": [
    "import pandas as pd\n",
    "import numpy as np\n",
    "\n",
    "from sklearn.externals import joblib\n",
    "import matplotlib.pyplot as plt\n",
    "import lightgbm as lgb\n",
    "\n",
    "from sklearn.ensemble import GradientBoostingClassifier\n",
    "from sklearn.ensemble import AdaBoostClassifier\n",
    "from sklearn.ensemble import RandomForestClassifier\n",
    "from sklearn import svm\n",
    "from sklearn.linear_model import SGDClassifier\n",
    "from sklearn.svm import LinearSVC\n",
    "\n",
    "from sklearn.metrics import f1_score,recall_score\n",
    "from sklearn.metrics import accuracy_score\n",
    "from sklearn.metrics import roc_auc_score\n",
    "from sklearn.metrics import  recall_score\n",
    "from sklearn.metrics import  precision_score\n",
    "from sklearn.metrics import matthews_corrcoef\n",
    "\n",
    "from sklearn.utils import shuffle\n",
    "from sklearn.model_selection import  train_test_split\n",
    "\n",
    "from sklearn.externals import joblib\n",
    "\n",
    "import numpy as np\n",
    "import seaborn as sns\n",
    "import pickle\n",
    "\n",
    "import matplotlib"
   ]
  },
  {
   "cell_type": "code",
   "execution_count": null,
   "metadata": {},
   "outputs": [],
   "source": []
  },
  {
   "cell_type": "code",
   "execution_count": 4,
   "metadata": {
    "ExecuteTime": {
     "end_time": "2019-09-23T04:36:47.992284Z",
     "start_time": "2019-09-23T04:36:47.988517Z"
    }
   },
   "outputs": [],
   "source": [
    "def prob2label(pred):\n",
    "    pred_label = []\n",
    "    for item in pred:\n",
    "        if item >= 0.5:\n",
    "            pred_label.append(1)\n",
    "        else:\n",
    "            pred_label.append(0)\n",
    "    return pred_label"
   ]
  },
  {
   "cell_type": "markdown",
   "metadata": {},
   "source": [
    "# Use Protein Only"
   ]
  },
  {
   "cell_type": "code",
   "execution_count": 5,
   "metadata": {
    "ExecuteTime": {
     "end_time": "2019-09-23T04:36:49.178871Z",
     "start_time": "2019-09-23T04:36:47.994592Z"
    }
   },
   "outputs": [],
   "source": [
    "k562_lgb_protein = lgb.Booster(model_file='./model/LGB/k562_protein_lgb.txt')\n",
    "imr90_lgb_protein = lgb.Booster(model_file='./model/LGB/img90_protein_lgb.txt')\n",
    "gm12878_lgb_protein = lgb.Booster(model_file='./model/LGB/gm12878_protein_lgb.txt')\n",
    "\n",
    "huvec_lgb_protein = lgb.Booster(model_file='./model/LGB/huvec_protein_lgb.txt')\n",
    "nhek_lgb_protein = lgb.Booster(model_file='./model/LGB/nhek_protein_lgb.txt')\n",
    "helas3_lgb_protein = lgb.Booster(model_file='./model/LGB/helas3_protein_lgb.txt')"
   ]
  },
  {
   "cell_type": "code",
   "execution_count": 6,
   "metadata": {
    "ExecuteTime": {
     "end_time": "2019-09-23T04:36:49.272754Z",
     "start_time": "2019-09-23T04:36:49.187825Z"
    }
   },
   "outputs": [
    {
     "name": "stderr",
     "output_type": "stream",
     "text": [
      "/opt/current-env/anaconda3/lib/python3.7/site-packages/sklearn/base.py:306: UserWarning: Trying to unpickle estimator LinearSVC from version 0.20.3 when using version 0.21.3. This might lead to breaking code or invalid results. Use at your own risk.\n",
      "  UserWarning)\n"
     ]
    }
   ],
   "source": [
    "k562_svm_protein = joblib.load('./model/RF/k562_svm_protein.model')\n",
    "imr90_svm_protein = joblib.load('./model/RF/imr90_svm_protein.model')\n",
    "gm12878_svm_protein = joblib.load('./model/RF/gm12878_svm_protein.model')\n",
    "\n",
    "huvec_svm_protein = joblib.load('./model/RF/huvec_svm_protein.model')\n",
    "nhek_svm_protein = joblib.load('./model/RF/nhek_svm_protein.model')\n",
    "helas3_svm_protein = joblib.load('./model/RF/helas3_svm_protein.model')"
   ]
  },
  {
   "cell_type": "code",
   "execution_count": 7,
   "metadata": {
    "ExecuteTime": {
     "end_time": "2019-09-23T04:36:50.759787Z",
     "start_time": "2019-09-23T04:36:49.275180Z"
    }
   },
   "outputs": [
    {
     "name": "stderr",
     "output_type": "stream",
     "text": [
      "/opt/current-env/anaconda3/lib/python3.7/site-packages/sklearn/base.py:306: UserWarning: Trying to unpickle estimator DecisionTreeClassifier from version 0.20.3 when using version 0.21.3. This might lead to breaking code or invalid results. Use at your own risk.\n",
      "  UserWarning)\n",
      "/opt/current-env/anaconda3/lib/python3.7/site-packages/sklearn/base.py:306: UserWarning: Trying to unpickle estimator AdaBoostClassifier from version 0.20.3 when using version 0.21.3. This might lead to breaking code or invalid results. Use at your own risk.\n",
      "  UserWarning)\n"
     ]
    }
   ],
   "source": [
    "k562_ada_protein = joblib.load('./model/Adaboost/k562_ada_protein.model')\n",
    "imr90_ada_protein = joblib.load('./model/Adaboost/imr90_ada_protein.model')\n",
    "gm12878_ada_protein = joblib.load('./model/Adaboost/gm12878_ada_protein.model')\n",
    "\n",
    "huvec_ada_protein = joblib.load('./model/Adaboost/huvec_ada_protein.model')\n",
    "nhek_ada_protein = joblib.load('./model/Adaboost/nhek_ada_protein.model')\n",
    "helas3_ada_protein = joblib.load('./model/Adaboost/helas3_ada_protein.model')"
   ]
  },
  {
   "cell_type": "code",
   "execution_count": 8,
   "metadata": {
    "ExecuteTime": {
     "end_time": "2019-09-23T04:37:05.278784Z",
     "start_time": "2019-09-23T04:36:50.763490Z"
    }
   },
   "outputs": [],
   "source": [
    "k562_original_data_json = pickle.load(open('./mid-data/K562/k562_original_data_json.pkl','rb'))\n",
    "gm12878_original_data_json = pickle.load(open('./mid-data/GM12878/gm12878_original_data_json.pkl','rb'))\n",
    "imr90_original_data_json = pickle.load(open('./mid-data/IMR90/imr90_original_data_json.pkl','rb'))\n",
    "huvec_original_data_json = pickle.load(open('./mid-data/HUVEC/huvec_original_data_json.pkl','rb'))\n",
    "nhek_original_data_json = pickle.load(open('./mid-data/NHEK/nhek_original_data_json.pkl','rb'))\n",
    "helas3_original_data_json = pickle.load(open('./mid-data/HELAS3/helas3_original_data_json.pkl','rb'))\n",
    "\n",
    "\n",
    "K562X_test = k562_original_data_json['X_test_protein']\n",
    "K562y_test = k562_original_data_json['y_test_protein']\n",
    "\n",
    "GM12878X_test = gm12878_original_data_json['X_test_protein']\n",
    "GM12878y_test = gm12878_original_data_json['y_test_protein']\n",
    "\n",
    "IMR90X_test = imr90_original_data_json['X_test_protein']\n",
    "IMR90y_test = imr90_original_data_json['y_test_protein']\n",
    "\n",
    "HUVECX_test = huvec_original_data_json['X_test_protein']\n",
    "HUVECy_test = huvec_original_data_json['y_test_protein']\n",
    "\n",
    "\n",
    "NHEKX_test = nhek_original_data_json['X_test_protein']\n",
    "NHEKy_test = nhek_original_data_json['y_test_protein']\n",
    "\n",
    "HELAS3X_test = helas3_original_data_json['X_test_protein']\n",
    "HELAS3y_test = helas3_original_data_json['y_test_protein']"
   ]
  },
  {
   "cell_type": "code",
   "execution_count": null,
   "metadata": {
    "ExecuteTime": {
     "end_time": "2019-06-07T01:57:42.629803Z",
     "start_time": "2019-06-07T01:57:42.535472Z"
    }
   },
   "outputs": [],
   "source": []
  },
  {
   "cell_type": "code",
   "execution_count": 9,
   "metadata": {
    "ExecuteTime": {
     "end_time": "2019-09-23T04:37:30.987544Z",
     "start_time": "2019-09-23T04:37:05.281608Z"
    }
   },
   "outputs": [],
   "source": [
    "k562_lgb_protein_f1 = f1_score(K562y_test,prob2label(k562_lgb_protein.predict(K562X_test)))\n",
    "k562_lgb_protein_auc = roc_auc_score(K562y_test,k562_lgb_protein.predict(K562X_test))\n",
    "\n",
    "k562_svm_protein_f1 = f1_score(K562y_test,k562_svm_protein.predict(K562X_test))\n",
    "k562_svm_protein_auc = roc_auc_score(K562y_test,k562_svm_protein.predict(K562X_test))\n",
    "\n",
    "k562_ada_protein_f1 = f1_score(K562y_test,k562_ada_protein.predict(K562X_test))\n",
    "k562_ada_protein_auc = roc_auc_score(K562y_test,k562_ada_protein.predict_proba(K562X_test)[:,1])"
   ]
  },
  {
   "cell_type": "code",
   "execution_count": 10,
   "metadata": {
    "ExecuteTime": {
     "end_time": "2019-09-23T04:37:30.994085Z",
     "start_time": "2019-09-23T04:37:30.990081Z"
    }
   },
   "outputs": [
    {
     "name": "stdout",
     "output_type": "stream",
     "text": [
      "k562 LGB use Protein Only f1=0.9017199017199017, auc=0.9559425443196643\n",
      "k562 SVM use Protein Only f1=0.6801099908340971, auc=0.5517926121102044\n",
      "k562 Adaboost use Protein Only f1=0.8362369337979093, auc=0.9051955693126295\n"
     ]
    }
   ],
   "source": [
    "print('k562 LGB use Protein Only f1={}, auc={}'.format(k562_lgb_protein_f1,k562_lgb_protein_auc))\n",
    "print('k562 SVM use Protein Only f1={}, auc={}'.format(k562_svm_protein_f1,k562_svm_protein_auc))\n",
    "print('k562 Adaboost use Protein Only f1={}, auc={}'.format(k562_ada_protein_f1,k562_ada_protein_auc))"
   ]
  },
  {
   "cell_type": "code",
   "execution_count": 11,
   "metadata": {
    "ExecuteTime": {
     "end_time": "2019-09-23T04:37:35.000708Z",
     "start_time": "2019-09-23T04:37:30.995928Z"
    }
   },
   "outputs": [],
   "source": [
    "imr90_lgb_protein_f1 = f1_score(IMR90y_test,prob2label(imr90_lgb_protein.predict(IMR90X_test)))\n",
    "imr90_lgb_protein_auc = roc_auc_score(IMR90y_test,imr90_lgb_protein.predict(IMR90X_test))\n",
    "\n",
    "imr90_svm_protein_f1 = f1_score(IMR90y_test,imr90_svm_protein.predict(IMR90X_test))\n",
    "imr90_svm_protein_auc = roc_auc_score(IMR90y_test,imr90_svm_protein.predict(IMR90X_test))\n",
    "\n",
    "imr90_ada_protein_f1 = f1_score(IMR90y_test,imr90_ada_protein.predict(IMR90X_test))\n",
    "imr90_ada_protein_auc = roc_auc_score(IMR90y_test,imr90_ada_protein.predict_proba(IMR90X_test)[:,1])"
   ]
  },
  {
   "cell_type": "code",
   "execution_count": 12,
   "metadata": {
    "ExecuteTime": {
     "end_time": "2019-09-23T04:37:35.006659Z",
     "start_time": "2019-09-23T04:37:35.002598Z"
    }
   },
   "outputs": [
    {
     "name": "stdout",
     "output_type": "stream",
     "text": [
      "IMR90 LGB use Protein Only f1=0.8442622950819674, auc=0.9309954209678192\n",
      "IMR90 SVM use Protein Only f1=0.6255259467040674, auc=0.5008456052459436\n",
      "IMR90 Adaboost use Protein Only f1=0.7864271457085829, auc=0.8484132935526588\n"
     ]
    }
   ],
   "source": [
    "print('IMR90 LGB use Protein Only f1={}, auc={}'.format(imr90_lgb_protein_f1,imr90_lgb_protein_auc))\n",
    "print('IMR90 SVM use Protein Only f1={}, auc={}'.format(imr90_svm_protein_f1,imr90_svm_protein_auc))\n",
    "print('IMR90 Adaboost use Protein Only f1={}, auc={}'.format(imr90_ada_protein_f1,imr90_ada_protein_auc))"
   ]
  },
  {
   "cell_type": "code",
   "execution_count": 13,
   "metadata": {
    "ExecuteTime": {
     "end_time": "2019-09-23T04:37:57.646876Z",
     "start_time": "2019-09-23T04:37:35.008670Z"
    }
   },
   "outputs": [],
   "source": [
    "gm12878_lgb_protein_f1 = f1_score(GM12878y_test,prob2label(gm12878_lgb_protein.predict(GM12878X_test)))\n",
    "gm12878_lgb_protein_auc = roc_auc_score(GM12878y_test,gm12878_lgb_protein.predict(GM12878X_test))\n",
    "\n",
    "gm12878_svm_protein_f1 = f1_score(GM12878y_test,gm12878_svm_protein.predict(GM12878X_test))\n",
    "gm12878_svm_protein_auc = roc_auc_score(GM12878y_test,gm12878_svm_protein.predict(GM12878X_test))\n",
    "\n",
    "gm12878_ada_protein_f1 = f1_score(GM12878y_test,gm12878_ada_protein.predict(GM12878X_test))\n",
    "gm12878_ada_protein_auc = roc_auc_score(GM12878y_test,gm12878_ada_protein.predict_proba(GM12878X_test)[:,1])"
   ]
  },
  {
   "cell_type": "code",
   "execution_count": 14,
   "metadata": {
    "ExecuteTime": {
     "end_time": "2019-09-23T04:37:57.653982Z",
     "start_time": "2019-09-23T04:37:57.649227Z"
    }
   },
   "outputs": [
    {
     "name": "stdout",
     "output_type": "stream",
     "text": [
      "GM12878 LGB use Protein Only f1=0.854586129753915, auc=0.9231657030164493\n",
      "GM12878 SVM use Protein Only f1=0.6974716652136007, auc=0.5735847788086594\n",
      "GM12878 Adaboost use Protein Only f1=0.7999999999999999, auc=0.8302350858321006\n"
     ]
    }
   ],
   "source": [
    "print('GM12878 LGB use Protein Only f1={}, auc={}'.format(gm12878_lgb_protein_f1,gm12878_lgb_protein_auc))\n",
    "print('GM12878 SVM use Protein Only f1={}, auc={}'.format(gm12878_svm_protein_f1,gm12878_svm_protein_auc))\n",
    "print('GM12878 Adaboost use Protein Only f1={}, auc={}'.format(gm12878_ada_protein_f1,gm12878_ada_protein_auc))"
   ]
  },
  {
   "cell_type": "code",
   "execution_count": 15,
   "metadata": {
    "ExecuteTime": {
     "end_time": "2019-09-23T04:37:59.766225Z",
     "start_time": "2019-09-23T04:37:57.656056Z"
    }
   },
   "outputs": [],
   "source": [
    "huvec_lgb_protein_f1 = f1_score(HUVECy_test,prob2label(huvec_lgb_protein.predict(HUVECX_test)))\n",
    "huvec_lgb_protein_auc = roc_auc_score(HUVECy_test,huvec_lgb_protein.predict(HUVECX_test))\n",
    "\n",
    "huvec_svm_protein_f1 = f1_score(HUVECy_test,huvec_svm_protein.predict(HUVECX_test))\n",
    "huvec_svm_protein_auc = roc_auc_score(HUVECy_test,huvec_svm_protein.predict(HUVECX_test))\n",
    "\n",
    "huvec_ada_protein_f1 = f1_score(HUVECy_test,huvec_ada_protein.predict(HUVECX_test))\n",
    "huvec_ada_protein_auc = roc_auc_score(HUVECy_test,huvec_ada_protein.predict_proba(HUVECX_test)[:,1])"
   ]
  },
  {
   "cell_type": "code",
   "execution_count": 16,
   "metadata": {
    "ExecuteTime": {
     "end_time": "2019-09-23T04:37:59.771893Z",
     "start_time": "2019-09-23T04:37:59.768067Z"
    }
   },
   "outputs": [
    {
     "name": "stdout",
     "output_type": "stream",
     "text": [
      "HUVEC LGB use Protein Only f1=0.8585526315789473, auc=0.9325588656452881\n",
      "HUVEC SVM use Protein Only f1=0.5987261146496815, auc=0.588957913889816\n",
      "HUVEC Adaboost use Protein Only f1=0.7974683544303798, auc=0.8463410170002477\n"
     ]
    }
   ],
   "source": [
    "print('HUVEC LGB use Protein Only f1={}, auc={}'.format(huvec_lgb_protein_f1,huvec_lgb_protein_auc))\n",
    "print('HUVEC SVM use Protein Only f1={}, auc={}'.format(huvec_svm_protein_f1,huvec_svm_protein_auc))\n",
    "print('HUVEC Adaboost use Protein Only f1={}, auc={}'.format(huvec_ada_protein_f1,huvec_ada_protein_auc))"
   ]
  },
  {
   "cell_type": "code",
   "execution_count": 17,
   "metadata": {
    "ExecuteTime": {
     "end_time": "2019-09-23T04:38:01.330363Z",
     "start_time": "2019-09-23T04:37:59.773841Z"
    }
   },
   "outputs": [],
   "source": [
    "nhek_lgb_protein_f1 = f1_score(NHEKy_test,prob2label(nhek_lgb_protein.predict(NHEKX_test)))\n",
    "nhek_lgb_protein_auc = roc_auc_score(NHEKy_test,nhek_lgb_protein.predict(NHEKX_test))\n",
    "\n",
    "nhek_svm_protein_f1 = f1_score(NHEKy_test,nhek_svm_protein.predict(NHEKX_test))\n",
    "nhek_svm_protein_auc = roc_auc_score(NHEKy_test,nhek_svm_protein.predict(NHEKX_test))\n",
    "\n",
    "nhek_ada_protein_f1 = f1_score(NHEKy_test,nhek_ada_protein.predict(NHEKX_test))\n",
    "nhek_ada_protein_auc = roc_auc_score(NHEKy_test,nhek_ada_protein.predict_proba(NHEKX_test)[:,1])"
   ]
  },
  {
   "cell_type": "code",
   "execution_count": 18,
   "metadata": {
    "ExecuteTime": {
     "end_time": "2019-09-23T04:38:01.336641Z",
     "start_time": "2019-09-23T04:38:01.332419Z"
    }
   },
   "outputs": [
    {
     "name": "stdout",
     "output_type": "stream",
     "text": [
      "NHEK LGB use Protein Only f1=0.9120287253141832, auc=0.9727702763390319\n",
      "NHEK SVM use Protein Only f1=0.6493150684931506, auc=0.4978144366935122\n",
      "NHEK Adaboost use Protein Only f1=0.8596491228070174, auc=0.913460674830095\n"
     ]
    }
   ],
   "source": [
    "print('NHEK LGB use Protein Only f1={}, auc={}'.format(nhek_lgb_protein_f1,nhek_lgb_protein_auc))\n",
    "print('NHEK SVM use Protein Only f1={}, auc={}'.format(nhek_svm_protein_f1,nhek_svm_protein_auc))\n",
    "print('NHEK Adaboost use Protein Only f1={}, auc={}'.format(nhek_ada_protein_f1,nhek_ada_protein_auc))"
   ]
  },
  {
   "cell_type": "code",
   "execution_count": 19,
   "metadata": {
    "ExecuteTime": {
     "end_time": "2019-09-23T04:38:17.160370Z",
     "start_time": "2019-09-23T04:38:01.338539Z"
    }
   },
   "outputs": [],
   "source": [
    "helas3_lgb_protein_f1 = f1_score(HELAS3y_test,prob2label(helas3_lgb_protein.predict(HELAS3X_test)))\n",
    "helas3_lgb_protein_auc = roc_auc_score(HELAS3y_test,helas3_lgb_protein.predict(HELAS3X_test))\n",
    "\n",
    "helas3_svm_protein_f1 = f1_score(HELAS3y_test,helas3_svm_protein.predict(HELAS3X_test))\n",
    "helas3_svm_protein_auc = roc_auc_score(HELAS3y_test,helas3_svm_protein.predict(HELAS3X_test))\n",
    "\n",
    "helas3_ada_protein_f1 = f1_score(HELAS3y_test,helas3_ada_protein.predict(HELAS3X_test))\n",
    "helas3_ada_protein_auc = roc_auc_score(HELAS3y_test,helas3_ada_protein.predict_proba(HELAS3X_test)[:,1])"
   ]
  },
  {
   "cell_type": "code",
   "execution_count": 20,
   "metadata": {
    "ExecuteTime": {
     "end_time": "2019-09-23T04:38:17.185510Z",
     "start_time": "2019-09-23T04:38:17.181247Z"
    }
   },
   "outputs": [
    {
     "name": "stdout",
     "output_type": "stream",
     "text": [
      "HELAS3 LGB use Protein Only f1=0.8920454545454546, auc=0.96152162240304\n",
      "HELAS3 SVM use Protein Only f1=0.6595538312318138, auc=0.5055759778613027\n",
      "HELAS3 Adaboost use Protein Only f1=0.8422535211267604, auc=0.8931146999297839\n"
     ]
    }
   ],
   "source": [
    "print('HELAS3 LGB use Protein Only f1={}, auc={}'.format(helas3_lgb_protein_f1,helas3_lgb_protein_auc))\n",
    "print('HELAS3 SVM use Protein Only f1={}, auc={}'.format(helas3_svm_protein_f1,helas3_svm_protein_auc))\n",
    "print('HELAS3 Adaboost use Protein Only f1={}, auc={}'.format(helas3_ada_protein_f1,helas3_ada_protein_auc))"
   ]
  },
  {
   "cell_type": "markdown",
   "metadata": {},
   "source": [
    "# Use Sequence"
   ]
  },
  {
   "cell_type": "code",
   "execution_count": 21,
   "metadata": {
    "ExecuteTime": {
     "end_time": "2019-09-23T04:38:18.247530Z",
     "start_time": "2019-09-23T04:38:17.188129Z"
    }
   },
   "outputs": [],
   "source": [
    "k562_lgb_seq = lgb.Booster(model_file='./model/LGB/k562_seq_lgb.txt')\n",
    "imr90_lgb_seq = lgb.Booster(model_file='./model/LGB/img90_seq_lgb.txt')\n",
    "gm12878_lgb_seq = lgb.Booster(model_file='./model/LGB/gm12878_seq_lgb.txt')\n",
    "\n",
    "huvec_lgb_seq = lgb.Booster(model_file='./model/LGB/huvec_seq_lgb.txt')\n",
    "nhek_lgb_seq = lgb.Booster(model_file='./model/LGB/nhek_seq_lgb.txt')\n",
    "helas3_lgb_seq = lgb.Booster(model_file='./model/LGB/helas3_seq_lgb.txt')"
   ]
  },
  {
   "cell_type": "code",
   "execution_count": 22,
   "metadata": {
    "ExecuteTime": {
     "end_time": "2019-09-23T04:38:18.322078Z",
     "start_time": "2019-09-23T04:38:18.256065Z"
    }
   },
   "outputs": [
    {
     "name": "stderr",
     "output_type": "stream",
     "text": [
      "/opt/current-env/anaconda3/lib/python3.7/site-packages/sklearn/base.py:306: UserWarning: Trying to unpickle estimator LinearSVC from version 0.20.3 when using version 0.21.3. This might lead to breaking code or invalid results. Use at your own risk.\n",
      "  UserWarning)\n"
     ]
    }
   ],
   "source": [
    "k562_svm_seq = joblib.load('./model/RF/k562_svm_seq.model')\n",
    "imr90_svm_seq = joblib.load('./model/RF/imr90_svm_seq.model')\n",
    "gm12878_svm_seq = joblib.load('./model/RF/gm12878_svm_seq.model')\n",
    "\n",
    "huvec_svm_seq = joblib.load('./model/RF/huvec_svm_seq.model')\n",
    "nhek_svm_seq = joblib.load('./model/RF/nhek_svm_seq.model')\n",
    "helas3_svm_seq = joblib.load('./model/RF/helas3_svm_seq.model')"
   ]
  },
  {
   "cell_type": "code",
   "execution_count": 23,
   "metadata": {
    "ExecuteTime": {
     "end_time": "2019-09-23T04:38:19.797014Z",
     "start_time": "2019-09-23T04:38:18.325394Z"
    }
   },
   "outputs": [
    {
     "name": "stderr",
     "output_type": "stream",
     "text": [
      "/opt/current-env/anaconda3/lib/python3.7/site-packages/sklearn/base.py:306: UserWarning: Trying to unpickle estimator DecisionTreeClassifier from version 0.20.3 when using version 0.21.3. This might lead to breaking code or invalid results. Use at your own risk.\n",
      "  UserWarning)\n",
      "/opt/current-env/anaconda3/lib/python3.7/site-packages/sklearn/base.py:306: UserWarning: Trying to unpickle estimator AdaBoostClassifier from version 0.20.3 when using version 0.21.3. This might lead to breaking code or invalid results. Use at your own risk.\n",
      "  UserWarning)\n"
     ]
    }
   ],
   "source": [
    "k562_ada_seq = joblib.load('./model/Adaboost/k562_ada_seq.model')\n",
    "imr90_ada_seq = joblib.load('./model/Adaboost/imr90_ada_seq.model')\n",
    "gm12878_ada_seq = joblib.load('./model/Adaboost/gm12878_ada_seq.model')\n",
    "\n",
    "huvec_ada_seq = joblib.load('./model/Adaboost/huvec_ada_seq.model')\n",
    "nhek_ada_seq = joblib.load('./model/Adaboost/nhek_ada_seq.model')\n",
    "helas3_ada_seq = joblib.load('./model/Adaboost/helas3_ada_seq.model')"
   ]
  },
  {
   "cell_type": "code",
   "execution_count": 24,
   "metadata": {
    "ExecuteTime": {
     "end_time": "2019-09-23T04:38:19.804478Z",
     "start_time": "2019-09-23T04:38:19.799118Z"
    }
   },
   "outputs": [],
   "source": [
    "\n",
    "k562_seq_test_x = k562_original_data_json['X_test_seq']\n",
    "k562_seq_test_y = k562_original_data_json['y_test_seq']\n",
    "\n",
    "imr90_seq_test_x = imr90_original_data_json['X_test_seq']\n",
    "imr90_seq_test_y = imr90_original_data_json['y_test_seq']\n",
    "\n",
    "gm12878_seq_test_x = gm12878_original_data_json['X_test_seq']\n",
    "gm12878_seq_test_y = gm12878_original_data_json['y_test_seq']\n",
    "\n",
    "huvec_seq_test_x = huvec_original_data_json['X_test_seq']\n",
    "huvec_seq_test_y = huvec_original_data_json['y_test_seq']\n",
    "\n",
    "nhek_seq_test_x = nhek_original_data_json['X_test_seq']\n",
    "nhek_seq_test_y = nhek_original_data_json['y_test_seq']\n",
    "\n",
    "helas3_seq_test_x = helas3_original_data_json['X_test_seq']\n",
    "helas3_seq_test_y = helas3_original_data_json['y_test_seq']"
   ]
  },
  {
   "cell_type": "code",
   "execution_count": 25,
   "metadata": {
    "ExecuteTime": {
     "end_time": "2019-09-23T04:38:20.895604Z",
     "start_time": "2019-09-23T04:38:19.806421Z"
    }
   },
   "outputs": [],
   "source": [
    "k562_lgb_seq_f1 = f1_score(k562_seq_test_y,prob2label(k562_lgb_seq.predict(k562_seq_test_x)))\n",
    "k562_lgb_seq_auc = roc_auc_score(k562_seq_test_y,k562_lgb_seq.predict(k562_seq_test_x))\n",
    "\n",
    "k562_svm_seq_f1 = f1_score(k562_seq_test_y,k562_svm_seq.predict(k562_seq_test_x))\n",
    "k562_svm_seq_auc = roc_auc_score(k562_seq_test_y,k562_svm_seq.predict(k562_seq_test_x))\n",
    "\n",
    "k562_ada_seq_f1 = f1_score(k562_seq_test_y,k562_ada_seq.predict(k562_seq_test_x))\n",
    "k562_ada_seq_auc = roc_auc_score(k562_seq_test_y,k562_ada_seq.predict_proba(k562_seq_test_x)[:,1])"
   ]
  },
  {
   "cell_type": "code",
   "execution_count": 26,
   "metadata": {
    "ExecuteTime": {
     "end_time": "2019-09-23T04:38:20.901979Z",
     "start_time": "2019-09-23T04:38:20.897557Z"
    }
   },
   "outputs": [
    {
     "name": "stdout",
     "output_type": "stream",
     "text": [
      "K562 LGB use Sequence Only f1=0.7652811735941321, auc=0.8513148806630682\n",
      "K562 SVM use Sequence Only f1=0.6633663366336634, auc=0.565117290424906\n",
      "K562 Adaboost use Sequence Only f1=0.7113276492082825, auc=0.7591389322350413\n"
     ]
    }
   ],
   "source": [
    "print('K562 LGB use Sequence Only f1={}, auc={}'.format(k562_lgb_seq_f1,k562_lgb_seq_auc))\n",
    "print('K562 SVM use Sequence Only f1={}, auc={}'.format(k562_svm_seq_f1,k562_svm_seq_auc))\n",
    "print('K562 Adaboost use Sequence Only f1={}, auc={}'.format(k562_ada_seq_f1,k562_ada_seq_auc))"
   ]
  },
  {
   "cell_type": "code",
   "execution_count": 27,
   "metadata": {
    "ExecuteTime": {
     "end_time": "2019-09-23T04:38:21.766719Z",
     "start_time": "2019-09-23T04:38:20.903825Z"
    }
   },
   "outputs": [],
   "source": [
    "imr90_lgb_seq_f1 = f1_score(imr90_seq_test_y,prob2label(imr90_lgb_seq.predict(imr90_seq_test_x)))\n",
    "imr90_lgb_seq_auc = roc_auc_score(imr90_seq_test_y,imr90_lgb_seq.predict(imr90_seq_test_x))\n",
    "\n",
    "imr90_svm_seq_f1 = f1_score(imr90_seq_test_y,imr90_svm_seq.predict(imr90_seq_test_x))\n",
    "imr90_svm_seq_auc = roc_auc_score(imr90_seq_test_y,imr90_svm_seq.predict(imr90_seq_test_x))\n",
    "\n",
    "imr90_ada_seq_f1 = f1_score(imr90_seq_test_y,imr90_ada_seq.predict(imr90_seq_test_x))\n",
    "imr90_ada_seq_auc = roc_auc_score(imr90_seq_test_y,imr90_ada_seq.predict_proba(imr90_seq_test_x)[:,1])"
   ]
  },
  {
   "cell_type": "code",
   "execution_count": 28,
   "metadata": {
    "ExecuteTime": {
     "end_time": "2019-09-23T04:38:21.772912Z",
     "start_time": "2019-09-23T04:38:21.768658Z"
    }
   },
   "outputs": [
    {
     "name": "stdout",
     "output_type": "stream",
     "text": [
      "imr90 LGB use Sequence Only f1=0.7717171717171718, auc=0.8648946184405764\n",
      "imr90 SVM use Sequence Only f1=0.6363636363636364, auc=0.5087193069227947\n",
      "imr90 Adaboost use Sequence Only f1=0.6802443991853361, auc=0.7364743047688945\n"
     ]
    }
   ],
   "source": [
    "print('imr90 LGB use Sequence Only f1={}, auc={}'.format(imr90_lgb_seq_f1,imr90_lgb_seq_auc))\n",
    "print('imr90 SVM use Sequence Only f1={}, auc={}'.format(imr90_svm_seq_f1,imr90_svm_seq_auc))\n",
    "print('imr90 Adaboost use Sequence Only f1={}, auc={}'.format(imr90_ada_seq_f1,imr90_ada_seq_auc))"
   ]
  },
  {
   "cell_type": "code",
   "execution_count": 29,
   "metadata": {
    "ExecuteTime": {
     "end_time": "2019-09-23T04:38:22.918168Z",
     "start_time": "2019-09-23T04:38:21.774992Z"
    }
   },
   "outputs": [
    {
     "name": "stdout",
     "output_type": "stream",
     "text": [
      "gm12878 LGB use Sequence Only f1=0.7301231802911535, auc=0.8080263098919815\n",
      "gm12878 SVM use Sequence Only f1=0.6758286176232821, auc=0.5043028102729595\n",
      "gm12878 Adaboost use Sequence Only f1=0.6695938529088914, auc=0.6819842230289992\n"
     ]
    }
   ],
   "source": [
    "gm12878_lgb_seq_f1 = f1_score(gm12878_seq_test_y,prob2label(gm12878_lgb_seq.predict(gm12878_seq_test_x)))\n",
    "gm12878_lgb_seq_auc = roc_auc_score(gm12878_seq_test_y,gm12878_lgb_seq.predict(gm12878_seq_test_x))\n",
    "\n",
    "gm12878_svm_seq_f1 = f1_score(gm12878_seq_test_y,gm12878_svm_seq.predict(gm12878_seq_test_x))\n",
    "gm12878_svm_seq_auc = roc_auc_score(gm12878_seq_test_y,gm12878_svm_seq.predict(gm12878_seq_test_x))\n",
    "\n",
    "gm12878_ada_seq_f1 = f1_score(gm12878_seq_test_y,gm12878_ada_seq.predict(gm12878_seq_test_x))\n",
    "gm12878_ada_seq_auc = roc_auc_score(gm12878_seq_test_y,gm12878_ada_seq.predict_proba(gm12878_seq_test_x)[:,1])\n",
    "\n",
    "print('gm12878 LGB use Sequence Only f1={}, auc={}'.format(gm12878_lgb_seq_f1,gm12878_lgb_seq_auc))\n",
    "print('gm12878 SVM use Sequence Only f1={}, auc={}'.format(gm12878_svm_seq_f1,gm12878_svm_seq_auc))\n",
    "print('gm12878 Adaboost use Sequence Only f1={}, auc={}'.format(gm12878_ada_seq_f1,gm12878_ada_seq_auc))"
   ]
  },
  {
   "cell_type": "code",
   "execution_count": 30,
   "metadata": {
    "ExecuteTime": {
     "end_time": "2019-09-23T04:38:23.840774Z",
     "start_time": "2019-09-23T04:38:22.920189Z"
    }
   },
   "outputs": [
    {
     "name": "stdout",
     "output_type": "stream",
     "text": [
      "huvec LGB use Sequence Only f1=0.7365079365079364, auc=0.819833981115621\n",
      "huvec SVM use Sequence Only f1=0.6045801526717558, auc=0.5792088801800153\n",
      "huvec Adaboost use Sequence Only f1=0.6764227642276422, auc=0.7276945769317729\n"
     ]
    }
   ],
   "source": [
    "huvec_lgb_seq_f1 = f1_score(huvec_seq_test_y,prob2label(huvec_lgb_seq.predict(huvec_seq_test_x)))\n",
    "huvec_lgb_seq_auc = roc_auc_score(huvec_seq_test_y,huvec_lgb_seq.predict(huvec_seq_test_x))\n",
    "\n",
    "huvec_svm_seq_f1 = f1_score(huvec_seq_test_y,huvec_svm_seq.predict(huvec_seq_test_x))\n",
    "huvec_svm_seq_auc = roc_auc_score(huvec_seq_test_y,huvec_svm_seq.predict(huvec_seq_test_x))\n",
    "\n",
    "huvec_ada_seq_f1 = f1_score(huvec_seq_test_y,huvec_ada_seq.predict(huvec_seq_test_x))\n",
    "huvec_ada_seq_auc = roc_auc_score(huvec_seq_test_y,huvec_ada_seq.predict_proba(huvec_seq_test_x)[:,1])\n",
    "\n",
    "print('huvec LGB use Sequence Only f1={}, auc={}'.format(huvec_lgb_seq_f1,huvec_lgb_seq_auc))\n",
    "print('huvec SVM use Sequence Only f1={}, auc={}'.format(huvec_svm_seq_f1,huvec_svm_seq_auc))\n",
    "print('huvec Adaboost use Sequence Only f1={}, auc={}'.format(huvec_ada_seq_f1,huvec_ada_seq_auc))"
   ]
  },
  {
   "cell_type": "code",
   "execution_count": 31,
   "metadata": {
    "ExecuteTime": {
     "end_time": "2019-09-23T04:38:24.762921Z",
     "start_time": "2019-09-23T04:38:23.842798Z"
    }
   },
   "outputs": [
    {
     "name": "stdout",
     "output_type": "stream",
     "text": [
      "nhek LGB use Sequence Only f1=0.8550185873605949, auc=0.9378162330469149\n",
      "nhek SVM use Sequence Only f1=0.7082767978290366, auc=0.5769063800485016\n",
      "nhek Adaboost use Sequence Only f1=0.7757352941176471, auc=0.8344360947277027\n"
     ]
    }
   ],
   "source": [
    "nhek_lgb_seq_f1 = f1_score(nhek_seq_test_y,prob2label(nhek_lgb_seq.predict(nhek_seq_test_x)))\n",
    "nhek_lgb_seq_auc = roc_auc_score(nhek_seq_test_y,nhek_lgb_seq.predict(nhek_seq_test_x))\n",
    "\n",
    "nhek_svm_seq_f1 = f1_score(nhek_seq_test_y,nhek_svm_seq.predict(nhek_seq_test_x))\n",
    "nhek_svm_seq_auc = roc_auc_score(nhek_seq_test_y,nhek_svm_seq.predict(nhek_seq_test_x))\n",
    "\n",
    "nhek_ada_seq_f1 = f1_score(nhek_seq_test_y,nhek_ada_seq.predict(nhek_seq_test_x))\n",
    "nhek_ada_seq_auc = roc_auc_score(nhek_seq_test_y,nhek_ada_seq.predict_proba(nhek_seq_test_x)[:,1])\n",
    "\n",
    "print('nhek LGB use Sequence Only f1={}, auc={}'.format(nhek_lgb_seq_f1,nhek_lgb_seq_auc))\n",
    "print('nhek SVM use Sequence Only f1={}, auc={}'.format(nhek_svm_seq_f1,nhek_svm_seq_auc))\n",
    "print('nhek Adaboost use Sequence Only f1={}, auc={}'.format(nhek_ada_seq_f1,nhek_ada_seq_auc))"
   ]
  },
  {
   "cell_type": "code",
   "execution_count": 32,
   "metadata": {
    "ExecuteTime": {
     "end_time": "2019-09-23T04:38:25.842656Z",
     "start_time": "2019-09-23T04:38:24.765339Z"
    }
   },
   "outputs": [
    {
     "name": "stdout",
     "output_type": "stream",
     "text": [
      "helas3 LGB use Sequence Only f1=0.7880512091038406, auc=0.8750154888273924\n",
      "helas3 SVM use Sequence Only f1=0.470404984423676, auc=0.5101400189996282\n",
      "helas3 Adaboost use Sequence Only f1=0.7275204359673024, auc=0.7684771384907686\n"
     ]
    }
   ],
   "source": [
    "helas3_lgb_seq_f1 = f1_score(helas3_seq_test_y,prob2label(helas3_lgb_seq.predict(helas3_seq_test_x)))\n",
    "helas3_lgb_seq_auc = roc_auc_score(helas3_seq_test_y,helas3_lgb_seq.predict(helas3_seq_test_x))\n",
    "\n",
    "helas3_svm_seq_f1 = f1_score(helas3_seq_test_y,helas3_svm_seq.predict(helas3_seq_test_x))\n",
    "helas3_svm_seq_auc = roc_auc_score(helas3_seq_test_y,helas3_svm_seq.predict(helas3_seq_test_x))\n",
    "\n",
    "helas3_ada_seq_f1 = f1_score(helas3_seq_test_y,helas3_ada_seq.predict(helas3_seq_test_x))\n",
    "helas3_ada_seq_auc = roc_auc_score(helas3_seq_test_y,helas3_ada_seq.predict_proba(helas3_seq_test_x)[:,1])\n",
    "\n",
    "print('helas3 LGB use Sequence Only f1={}, auc={}'.format(helas3_lgb_seq_f1,helas3_lgb_seq_auc))\n",
    "print('helas3 SVM use Sequence Only f1={}, auc={}'.format(helas3_svm_seq_f1,helas3_svm_seq_auc))\n",
    "print('helas3 Adaboost use Sequence Only f1={}, auc={}'.format(helas3_ada_seq_f1,helas3_ada_seq_auc))"
   ]
  },
  {
   "cell_type": "markdown",
   "metadata": {},
   "source": [
    "# Sequen+Protein"
   ]
  },
  {
   "cell_type": "markdown",
   "metadata": {},
   "source": [
    "### all "
   ]
  },
  {
   "cell_type": "code",
   "execution_count": 33,
   "metadata": {
    "ExecuteTime": {
     "end_time": "2019-09-23T04:38:25.873158Z",
     "start_time": "2019-09-23T04:38:25.844727Z"
    }
   },
   "outputs": [],
   "source": [
    "used_features = pickle.load(open('./mid-data/used_feature.pkl','rb'))"
   ]
  },
  {
   "cell_type": "code",
   "execution_count": 34,
   "metadata": {
    "ExecuteTime": {
     "end_time": "2019-09-23T04:38:25.957577Z",
     "start_time": "2019-09-23T04:38:25.875049Z"
    }
   },
   "outputs": [],
   "source": [
    "k562_merged_test_x = k562_original_data_json['X_test_all'][used_features['k562']]\n",
    "k562_merged_test_y = k562_original_data_json['y_test_all']\n",
    "k562_merged_train_x = k562_original_data_json['X_train_all'][used_features['k562']]\n",
    "k562_merged_train_y = k562_original_data_json['y_train_all']\n",
    "\n",
    "imr90_merged_test_x = imr90_original_data_json['X_test_all'][used_features['imr90']]\n",
    "imr90_merged_test_y = imr90_original_data_json['y_test_all']\n",
    "imr90_merged_train_x = imr90_original_data_json['X_train_all'][used_features['imr90']]\n",
    "imr90_merged_train_y = imr90_original_data_json['y_train_all']\n",
    "\n",
    "gm12878_merged_test_x = gm12878_original_data_json['X_test_all'][used_features['gm12878']]\n",
    "gm12878_merged_test_y = gm12878_original_data_json['y_test_all']\n",
    "gm12878_merged_train_x = gm12878_original_data_json['X_train_all'][used_features['gm12878']]\n",
    "gm12878_merged_train_y = gm12878_original_data_json['y_train_all']\n",
    "\n",
    "huvec_merged_test_x = huvec_original_data_json['X_test_all'][used_features['huvec']]\n",
    "huvec_merged_test_y = huvec_original_data_json['y_test_all']\n",
    "huvec_merged_train_x = huvec_original_data_json['X_train_all'][used_features['huvec']]\n",
    "huvec_merged_train_y = huvec_original_data_json['y_train_all']\n",
    "\n",
    "nhek_merged_test_x = nhek_original_data_json['X_test_all'][used_features['nhek']]\n",
    "nhek_merged_test_y = nhek_original_data_json['y_test_all']\n",
    "nhek_merged_train_x = nhek_original_data_json['X_train_all'][used_features['nhek']]\n",
    "nhek_merged_train_y = nhek_original_data_json['y_train_all']\n",
    "\n",
    "helas3_merged_test_x = helas3_original_data_json['X_test_all'][used_features['helas3']]\n",
    "helas3_merged_test_y = helas3_original_data_json['y_test_all']\n",
    "helas3_merged_train_x = helas3_original_data_json['X_train_all'][used_features['helas3']]\n",
    "helas3_merged_train_y = helas3_original_data_json['y_train_all']"
   ]
  },
  {
   "cell_type": "code",
   "execution_count": 35,
   "metadata": {
    "ExecuteTime": {
     "end_time": "2019-09-23T04:38:27.135325Z",
     "start_time": "2019-09-23T04:38:25.959403Z"
    }
   },
   "outputs": [],
   "source": [
    "k562_lgb_merged = lgb.Booster(model_file='./model/LGB/k562_merged_lgb.txt')\n",
    "imr90_lgb_merged = lgb.Booster(model_file='./model/LGB/img90_merged_lgb.txt')\n",
    "gm12878_lgb_merged = lgb.Booster(model_file='./model/LGB/gm12878_merged_lgb.txt')\n",
    "\n",
    "huvec_lgb_merged = lgb.Booster(model_file='./model/LGB/huvec_merged_lgb.txt')\n",
    "nhek_lgb_merged = lgb.Booster(model_file='./model/LGB/nhek_merged_lgb.txt')\n",
    "helas3_lgb_merged = lgb.Booster(model_file='./model/LGB/helas3_merged_lgb.txt')"
   ]
  },
  {
   "cell_type": "code",
   "execution_count": 36,
   "metadata": {
    "ExecuteTime": {
     "end_time": "2019-09-23T04:38:27.197063Z",
     "start_time": "2019-09-23T04:38:27.138113Z"
    }
   },
   "outputs": [
    {
     "name": "stderr",
     "output_type": "stream",
     "text": [
      "/opt/current-env/anaconda3/lib/python3.7/site-packages/sklearn/base.py:306: UserWarning: Trying to unpickle estimator LinearSVC from version 0.20.3 when using version 0.21.3. This might lead to breaking code or invalid results. Use at your own risk.\n",
      "  UserWarning)\n"
     ]
    }
   ],
   "source": [
    "k562_svm_merged = joblib.load('./model/RF/k562_svm_merged.model')\n",
    "imr90_svm_merged = joblib.load('./model/RF/imr90_svm_merged.model')\n",
    "gm12878_svm_merged = joblib.load('./model/RF/gm12878_svm_merged.model')\n",
    "\n",
    "huvec_svm_merged = joblib.load('./model/RF/huvec_svm_merged.model')\n",
    "nhek_svm_merged = joblib.load('./model/RF/nhek_svm_merged.model')\n",
    "helas3_svm_merged = joblib.load('./model/RF/helas3_svm_merged.model')"
   ]
  },
  {
   "cell_type": "code",
   "execution_count": 37,
   "metadata": {
    "ExecuteTime": {
     "end_time": "2019-09-23T04:38:28.657384Z",
     "start_time": "2019-09-23T04:38:27.199083Z"
    }
   },
   "outputs": [
    {
     "name": "stderr",
     "output_type": "stream",
     "text": [
      "/opt/current-env/anaconda3/lib/python3.7/site-packages/sklearn/base.py:306: UserWarning: Trying to unpickle estimator DecisionTreeClassifier from version 0.20.3 when using version 0.21.3. This might lead to breaking code or invalid results. Use at your own risk.\n",
      "  UserWarning)\n",
      "/opt/current-env/anaconda3/lib/python3.7/site-packages/sklearn/base.py:306: UserWarning: Trying to unpickle estimator AdaBoostClassifier from version 0.20.3 when using version 0.21.3. This might lead to breaking code or invalid results. Use at your own risk.\n",
      "  UserWarning)\n"
     ]
    }
   ],
   "source": [
    "k562_ada_merged = joblib.load('./model/Adaboost/k562_ada_merged.model')\n",
    "imr90_ada_merged = joblib.load('./model/Adaboost/imr90_ada_merged.model')\n",
    "gm12878_ada_merged = joblib.load('./model/Adaboost/gm12878_ada_merged.model')\n",
    "\n",
    "huvec_ada_merged = joblib.load('./model/Adaboost/huvec_ada_merged.model')\n",
    "nhek_ada_merged = joblib.load('./model/Adaboost/nhek_ada_merged.model')\n",
    "helas3_ada_merged = joblib.load('./model/Adaboost/helas3_ada_merged.model')"
   ]
  },
  {
   "cell_type": "code",
   "execution_count": null,
   "metadata": {
    "ExecuteTime": {
     "end_time": "2019-08-20T10:53:00.380608Z",
     "start_time": "2019-08-20T10:53:00.375183Z"
    }
   },
   "outputs": [],
   "source": []
  },
  {
   "cell_type": "code",
   "execution_count": 38,
   "metadata": {
    "ExecuteTime": {
     "end_time": "2019-09-23T04:38:33.413709Z",
     "start_time": "2019-09-23T04:38:28.659442Z"
    }
   },
   "outputs": [
    {
     "name": "stdout",
     "output_type": "stream",
     "text": [
      "K562 LGB use Protein+Sequence  f1=0.905055487053021, auc=0.9570553324294595,mcc=0.8052574077780739\n",
      "K562 SVM use Protein+Sequence  f1=0.6568848758465011, auc=0.6136195032104577,mcc=0.2329712575434129\n",
      "K562 Adaboost Protein+Sequence  f1=0.8339222614840989, auc=0.8924432733877362,mcc=0.6464748572140019\n"
     ]
    }
   ],
   "source": [
    "k562_lgb_merged_f1 = f1_score(k562_merged_test_y,prob2label(k562_lgb_merged.predict(k562_merged_test_x)))\n",
    "k562_lgb_merged_auc = roc_auc_score(k562_merged_test_y,k562_lgb_merged.predict(k562_merged_test_x))\n",
    "k562_lgb_merged_mcc = matthews_corrcoef(k562_merged_test_y,prob2label(k562_lgb_merged.predict(k562_merged_test_x)))\n",
    "\n",
    "k562_svm_merged_f1 = f1_score(k562_merged_test_y,k562_svm_merged.predict(k562_merged_test_x))\n",
    "k562_svm_merged_auc = roc_auc_score(k562_merged_test_y,k562_svm_merged.predict(k562_merged_test_x))\n",
    "k562_svm_merged_mcc = matthews_corrcoef(k562_merged_test_y,k562_svm_merged.predict(k562_merged_test_x))\n",
    "\n",
    "k562_ada_merged_f1 = f1_score(k562_merged_test_y,k562_ada_merged.predict(k562_merged_test_x))\n",
    "k562_ada_merged_auc = roc_auc_score(k562_merged_test_y,k562_ada_merged.predict_proba(k562_merged_test_x)[:,1])\n",
    "k562_ada_merged_mcc = matthews_corrcoef(k562_merged_test_y,k562_ada_merged.predict(k562_merged_test_x))\n",
    "\n",
    "print('K562 LGB use Protein+Sequence  f1={}, auc={},mcc={}'.format(k562_lgb_merged_f1,k562_lgb_merged_auc,k562_lgb_merged_mcc))\n",
    "print('K562 SVM use Protein+Sequence  f1={}, auc={},mcc={}'.format(k562_svm_merged_f1,k562_svm_merged_auc,k562_svm_merged_mcc))\n",
    "print('K562 Adaboost Protein+Sequence  f1={}, auc={},mcc={}'.format(k562_ada_merged_f1,k562_ada_merged_auc,k562_ada_merged_mcc))"
   ]
  },
  {
   "cell_type": "code",
   "execution_count": 39,
   "metadata": {
    "ExecuteTime": {
     "end_time": "2019-09-23T04:38:34.965594Z",
     "start_time": "2019-09-23T04:38:33.415541Z"
    }
   },
   "outputs": [
    {
     "name": "stdout",
     "output_type": "stream",
     "text": [
      "imr90 LGB use Protein+Sequence  f1=0.8459958932238193, auc=0.9280437800149977,mcc=0.7039148707871201\n",
      "imr90 SVM use Protein+Sequence  f1=0.6271186440677966, auc=0.5772931059240232,mcc=0.17010095278064277\n",
      "imr90 Adaboost Protein+Sequence  f1=0.7588932806324111, auc=0.8505831485233817,mcc=0.5235878199620787\n"
     ]
    }
   ],
   "source": [
    "imr90_lgb_merged_f1 = f1_score(imr90_merged_test_y,prob2label(imr90_lgb_merged.predict(imr90_merged_test_x)))\n",
    "imr90_lgb_merged_auc = roc_auc_score(imr90_merged_test_y,imr90_lgb_merged.predict(imr90_merged_test_x))\n",
    "imr90_lgb_merged_mcc = matthews_corrcoef(imr90_merged_test_y,prob2label(imr90_lgb_merged.predict(imr90_merged_test_x)))\n",
    "\n",
    "\n",
    "imr90_svm_merged_f1 = f1_score(imr90_merged_test_y,imr90_svm_merged.predict(imr90_merged_test_x))\n",
    "imr90_svm_merged_auc = roc_auc_score(imr90_merged_test_y,imr90_svm_merged.predict(imr90_merged_test_x))\n",
    "imr90_svm_merged_mcc = matthews_corrcoef(imr90_merged_test_y,imr90_svm_merged.predict(imr90_merged_test_x))\n",
    "\n",
    "imr90_ada_merged_f1 = f1_score(imr90_merged_test_y,imr90_ada_merged.predict(imr90_merged_test_x))\n",
    "imr90_ada_merged_auc = roc_auc_score(imr90_merged_test_y,imr90_ada_merged.predict_proba(imr90_merged_test_x)[:,1])\n",
    "imr90_ada_merged_mcc = matthews_corrcoef(imr90_merged_test_y,imr90_ada_merged.predict(imr90_merged_test_x))\n",
    "\n",
    "\n",
    "print('imr90 LGB use Protein+Sequence  f1={}, auc={},mcc={}'.format(imr90_lgb_merged_f1,imr90_lgb_merged_auc,imr90_lgb_merged_mcc))\n",
    "print('imr90 SVM use Protein+Sequence  f1={}, auc={},mcc={}'.format(imr90_svm_merged_f1,imr90_svm_merged_auc,imr90_svm_merged_mcc))\n",
    "print('imr90 Adaboost Protein+Sequence  f1={}, auc={},mcc={}'.format(imr90_ada_merged_f1,imr90_ada_merged_auc,imr90_ada_merged_mcc))"
   ]
  },
  {
   "cell_type": "code",
   "execution_count": 40,
   "metadata": {
    "ExecuteTime": {
     "end_time": "2019-09-23T04:38:37.610536Z",
     "start_time": "2019-09-23T04:38:34.967623Z"
    }
   },
   "outputs": [
    {
     "name": "stdout",
     "output_type": "stream",
     "text": [
      "gm12878 LGB use Protein+Sequence  f1=0.8539576365663322, auc=0.9191934471785217,mcc=0.6893702227078095\n",
      "gm12878 SVM use Protein+Sequence  f1=0.6995594713656387, auc=0.5814004302810273,mcc=0.21016303670091954\n",
      "gm12878 Adaboost Protein+Sequence  f1=0.7845993756503642, auc=0.8256969656223387,mcc=0.5130511181048277\n"
     ]
    }
   ],
   "source": [
    "gm12878_lgb_merged_f1 = f1_score(gm12878_merged_test_y,prob2label(gm12878_lgb_merged.predict(gm12878_merged_test_x)))\n",
    "gm12878_lgb_merged_auc = roc_auc_score(gm12878_merged_test_y,gm12878_lgb_merged.predict(gm12878_merged_test_x))\n",
    "gm12878_lgb_merged_mcc = matthews_corrcoef(gm12878_merged_test_y,prob2label(gm12878_lgb_merged.predict(gm12878_merged_test_x)))\n",
    "\n",
    "\n",
    "gm12878_svm_merged_f1 = f1_score(gm12878_merged_test_y,gm12878_svm_merged.predict(gm12878_merged_test_x))\n",
    "gm12878_svm_merged_auc = roc_auc_score(gm12878_merged_test_y,gm12878_svm_merged.predict(gm12878_merged_test_x))\n",
    "gm12878_svm_merged_mcc = matthews_corrcoef(gm12878_merged_test_y,gm12878_svm_merged.predict(gm12878_merged_test_x))\n",
    "\n",
    "\n",
    "gm12878_ada_merged_f1 = f1_score(gm12878_merged_test_y,gm12878_ada_merged.predict(gm12878_merged_test_x))\n",
    "gm12878_ada_merged_auc = roc_auc_score(gm12878_merged_test_y,gm12878_ada_merged.predict_proba(gm12878_merged_test_x)[:,1])\n",
    "gm12878_ada_merged_mcc = matthews_corrcoef(gm12878_merged_test_y,gm12878_ada_merged.predict(gm12878_merged_test_x))\n",
    "\n",
    "\n",
    "print('gm12878 LGB use Protein+Sequence  f1={}, auc={},mcc={}'.format(gm12878_lgb_merged_f1,gm12878_lgb_merged_auc,gm12878_lgb_merged_mcc))\n",
    "print('gm12878 SVM use Protein+Sequence  f1={}, auc={},mcc={}'.format(gm12878_svm_merged_f1,gm12878_svm_merged_auc,gm12878_svm_merged_mcc))\n",
    "print('gm12878 Adaboost Protein+Sequence  f1={}, auc={},mcc={}'.format(gm12878_ada_merged_f1,gm12878_ada_merged_auc,gm12878_ada_merged_mcc))"
   ]
  },
  {
   "cell_type": "code",
   "execution_count": 41,
   "metadata": {
    "ExecuteTime": {
     "end_time": "2019-09-23T04:38:39.931409Z",
     "start_time": "2019-09-23T04:38:37.612550Z"
    }
   },
   "outputs": [
    {
     "name": "stdout",
     "output_type": "stream",
     "text": [
      "huvec LGB use Protein+Sequence  f1=0.8655737704918033, auc=0.9358749367470204,mcc=0.7338314617629009\n",
      "huvec SVM use Protein+Sequence  f1=0.6243093922651933, auc=0.5623216804297972,mcc=0.1367626292359096\n",
      "huvec Adaboost Protein+Sequence  f1=0.7735537190082645, auc=0.8515089200159343,mcc=0.5522956542364212\n"
     ]
    }
   ],
   "source": [
    "huvec_lgb_merged_f1 = f1_score(huvec_merged_test_y,prob2label(huvec_lgb_merged.predict(huvec_merged_test_x)))\n",
    "huvec_lgb_merged_auc = roc_auc_score(huvec_merged_test_y,huvec_lgb_merged.predict(huvec_merged_test_x))\n",
    "huvec_lgb_merged_mcc = matthews_corrcoef(huvec_merged_test_y,prob2label(huvec_lgb_merged.predict(huvec_merged_test_x)))\n",
    "\n",
    "\n",
    "huvec_svm_merged_f1 = f1_score(huvec_merged_test_y,huvec_svm_merged.predict(huvec_merged_test_x))\n",
    "huvec_svm_merged_auc = roc_auc_score(huvec_merged_test_y,huvec_svm_merged.predict(huvec_merged_test_x))\n",
    "huvec_svm_merged_mcc = matthews_corrcoef(huvec_merged_test_y,huvec_svm_merged.predict(huvec_merged_test_x))\n",
    "\n",
    "\n",
    "huvec_ada_merged_f1 = f1_score(huvec_merged_test_y,huvec_ada_merged.predict(huvec_merged_test_x))\n",
    "huvec_ada_merged_auc = roc_auc_score(huvec_merged_test_y,huvec_ada_merged.predict_proba(huvec_merged_test_x)[:,1])\n",
    "huvec_ada_merged_mcc = matthews_corrcoef(huvec_merged_test_y,huvec_ada_merged.predict(huvec_merged_test_x))\n",
    "\n",
    "\n",
    "print('huvec LGB use Protein+Sequence  f1={}, auc={},mcc={}'.format(huvec_lgb_merged_f1,huvec_lgb_merged_auc,huvec_lgb_merged_mcc))\n",
    "print('huvec SVM use Protein+Sequence  f1={}, auc={},mcc={}'.format(huvec_svm_merged_f1,huvec_svm_merged_auc,huvec_svm_merged_mcc))\n",
    "print('huvec Adaboost Protein+Sequence  f1={}, auc={},mcc={}'.format(huvec_ada_merged_f1,huvec_ada_merged_auc,huvec_ada_merged_mcc))"
   ]
  },
  {
   "cell_type": "code",
   "execution_count": 42,
   "metadata": {
    "ExecuteTime": {
     "end_time": "2019-09-23T04:38:41.342371Z",
     "start_time": "2019-09-23T04:38:39.933231Z"
    }
   },
   "outputs": [
    {
     "name": "stdout",
     "output_type": "stream",
     "text": [
      "nhek LGB use Protein+Sequence  f1=0.9236363636363637, auc=0.9783389718870693,mcc=0.8408576460002464\n",
      "nhek SVM use Protein+Sequence  f1=0.598326359832636, auc=0.6301308344061556,mcc=0.2639868180502183\n",
      "nhek Adaboost Protein+Sequence  f1=0.857638888888889, auc=0.9244184305859107,mcc=0.6948363120018994\n"
     ]
    }
   ],
   "source": [
    "nhek_lgb_merged_f1 = f1_score(nhek_merged_test_y,prob2label(nhek_lgb_merged.predict(nhek_merged_test_x)))\n",
    "nhek_lgb_merged_auc = roc_auc_score(nhek_merged_test_y,nhek_lgb_merged.predict(nhek_merged_test_x))\n",
    "nhek_lgb_merged_mcc = matthews_corrcoef(nhek_merged_test_y,prob2label(nhek_lgb_merged.predict(nhek_merged_test_x)))\n",
    "\n",
    "\n",
    "nhek_svm_merged_f1 = f1_score(nhek_merged_test_y,nhek_svm_merged.predict(nhek_merged_test_x))\n",
    "nhek_svm_merged_auc = roc_auc_score(nhek_merged_test_y,nhek_svm_merged.predict(nhek_merged_test_x))\n",
    "nhek_svm_merged_mcc = matthews_corrcoef(nhek_merged_test_y,nhek_svm_merged.predict(nhek_merged_test_x))\n",
    "\n",
    "\n",
    "nhek_ada_merged_f1 = f1_score(nhek_merged_test_y,nhek_ada_merged.predict(nhek_merged_test_x))\n",
    "nhek_ada_merged_auc = roc_auc_score(nhek_merged_test_y,nhek_ada_merged.predict_proba(nhek_merged_test_x)[:,1])\n",
    "nhek_ada_merged_mcc = matthews_corrcoef(nhek_merged_test_y,nhek_ada_merged.predict(nhek_merged_test_x))\n",
    "\n",
    "\n",
    "print('nhek LGB use Protein+Sequence  f1={}, auc={},mcc={}'.format(nhek_lgb_merged_f1,nhek_lgb_merged_auc,nhek_lgb_merged_mcc))\n",
    "print('nhek SVM use Protein+Sequence  f1={}, auc={},mcc={}'.format(nhek_svm_merged_f1,nhek_svm_merged_auc,nhek_svm_merged_mcc))\n",
    "print('nhek Adaboost Protein+Sequence  f1={}, auc={},mcc={}'.format(nhek_ada_merged_f1,nhek_ada_merged_auc,nhek_ada_merged_mcc))"
   ]
  },
  {
   "cell_type": "code",
   "execution_count": 43,
   "metadata": {
    "ExecuteTime": {
     "end_time": "2019-09-23T04:38:43.513181Z",
     "start_time": "2019-09-23T04:38:41.344485Z"
    }
   },
   "outputs": [
    {
     "name": "stdout",
     "output_type": "stream",
     "text": [
      "helas3 LGB use Protein+Sequence  f1=0.8962536023054756, auc=0.9623559539052498,mcc=0.7936349333177847\n",
      "helas3 SVM use Protein+Sequence  f1=0.304147465437788, auc=0.5587460245343026,mcc=0.17262341884910998\n",
      "helas3 Adaboost Protein+Sequence  f1=0.8368794326241136, auc=0.8948742307215728,mcc=0.6713106470595223\n"
     ]
    }
   ],
   "source": [
    "helas3_lgb_merged_f1 = f1_score(helas3_merged_test_y,prob2label(helas3_lgb_merged.predict(helas3_merged_test_x)))\n",
    "helas3_lgb_merged_auc = roc_auc_score(helas3_merged_test_y,helas3_lgb_merged.predict(helas3_merged_test_x))\n",
    "helas3_lgb_merged_mcc = matthews_corrcoef(helas3_merged_test_y,prob2label(helas3_lgb_merged.predict(helas3_merged_test_x)))\n",
    "\n",
    "helas3_svm_merged_f1 = f1_score(helas3_merged_test_y,helas3_svm_merged.predict(helas3_merged_test_x))\n",
    "helas3_svm_merged_auc = roc_auc_score(helas3_merged_test_y,helas3_svm_merged.predict(helas3_merged_test_x))\n",
    "helas3_svm_merged_mcc = matthews_corrcoef(helas3_merged_test_y,helas3_svm_merged.predict(helas3_merged_test_x))\n",
    "\n",
    "\n",
    "helas3_ada_merged_f1 = f1_score(helas3_merged_test_y,helas3_ada_merged.predict(helas3_merged_test_x))\n",
    "helas3_ada_merged_auc = roc_auc_score(helas3_merged_test_y,helas3_ada_merged.predict_proba(helas3_merged_test_x)[:,1])\n",
    "helas3_ada_merged_mcc = matthews_corrcoef(helas3_merged_test_y,helas3_ada_merged.predict(helas3_merged_test_x))\n",
    "\n",
    "\n",
    "print('helas3 LGB use Protein+Sequence  f1={}, auc={},mcc={}'.format(helas3_lgb_merged_f1,helas3_lgb_merged_auc,helas3_lgb_merged_mcc))\n",
    "print('helas3 SVM use Protein+Sequence  f1={}, auc={},mcc={}'.format(helas3_svm_merged_f1,helas3_svm_merged_auc,helas3_svm_merged_mcc))\n",
    "print('helas3 Adaboost Protein+Sequence  f1={}, auc={},mcc={}'.format(helas3_ada_merged_f1,helas3_ada_merged_auc,helas3_ada_merged_mcc))"
   ]
  },
  {
   "cell_type": "markdown",
   "metadata": {},
   "source": [
    "# Use all features"
   ]
  },
  {
   "cell_type": "code",
   "execution_count": 44,
   "metadata": {
    "ExecuteTime": {
     "end_time": "2019-09-23T04:38:43.520007Z",
     "start_time": "2019-09-23T04:38:43.515193Z"
    }
   },
   "outputs": [],
   "source": [
    "def get_used_features():\n",
    "    for k,v in used_features.items():\n",
    "        cell = k\n",
    "        epi_count = 0\n",
    "        seq_count = 0\n",
    "        for item in v:\n",
    "            if len(item)>5:\n",
    "                epi_count +=1\n",
    "            else:\n",
    "                seq_count += 1\n",
    "        \n",
    "        print('cell {}\\t epifeatures {}\\t sequence_features {}'.format(k,epi_count,seq_count))\n",
    "    "
   ]
  },
  {
   "cell_type": "code",
   "execution_count": 45,
   "metadata": {
    "ExecuteTime": {
     "end_time": "2019-09-23T04:38:43.527244Z",
     "start_time": "2019-09-23T04:38:43.522474Z"
    }
   },
   "outputs": [
    {
     "name": "stdout",
     "output_type": "stream",
     "text": [
      "cell k562\t epifeatures 1199\t sequence_features 166\n",
      "cell imr90\t epifeatures 253\t sequence_features 198\n",
      "cell gm12878\t epifeatures 405\t sequence_features 175\n",
      "cell huvec\t epifeatures 332\t sequence_features 285\n",
      "cell nhek\t epifeatures 219\t sequence_features 167\n",
      "cell helas3\t epifeatures 294\t sequence_features 232\n"
     ]
    }
   ],
   "source": [
    "get_used_features()"
   ]
  },
  {
   "cell_type": "markdown",
   "metadata": {},
   "source": [
    "# Top Feature Include"
   ]
  },
  {
   "cell_type": "code",
   "execution_count": 46,
   "metadata": {
    "ExecuteTime": {
     "end_time": "2019-09-23T04:38:43.534974Z",
     "start_time": "2019-09-23T04:38:43.529612Z"
    }
   },
   "outputs": [],
   "source": [
    "lgb_param = {\n",
    "    'num_leaves':31, \n",
    "    'objective':'binary',\n",
    "    'max_depth':None,\n",
    "    'min_data_in_leaf':1,\n",
    "    'learning_rate':0.03,\n",
    "    'max_bin':None,\n",
    "    'bagging_fraction':0.8,\n",
    "    #'feature_fraction':0.8,\n",
    "    #'bagging_freq':50,\n",
    "    'tree_learner_type':'voting',\n",
    "    'boosting_type':'gbdt',\n",
    "    'metric':['binary_logloss']}\n",
    "num_round = 1000\n",
    "early_stop = 50\n",
    "nfold = 100"
   ]
  },
  {
   "cell_type": "code",
   "execution_count": 47,
   "metadata": {
    "ExecuteTime": {
     "end_time": "2019-09-23T04:38:43.551301Z",
     "start_time": "2019-09-23T04:38:43.537551Z"
    }
   },
   "outputs": [],
   "source": [
    "def get_lgb_feature_top(model,topN):\n",
    "    feature_imp_val = model.feature_importance()\n",
    "    feature_name = model.feature_name()\n",
    "    feature_imp = np.c_[feature_name,feature_imp_val]\n",
    "    feature_imp = pd.DataFrame(feature_imp,columns=['feature_name','feature_score'])\n",
    "    feature_imp = feature_imp.sort_values(by='feature_score',ascending=False)\n",
    "    feature_imp['feature_score'] = feature_imp['feature_score'].astype(float)\n",
    "    feature_imp = feature_imp[:topN]\n",
    "    return feature_imp\n",
    "\n",
    "def lgb_f1_score(y_hat, data):\n",
    "    y_true = data.get_label()\n",
    "    y_hat = np.round(y_hat) # scikits f1 doesn't like probabilities\n",
    "    return 'f1', f1_score(y_true, y_hat), True\n",
    "\n",
    "def generate_lgb_use_data(X_train,y_train,X_test,y_test):\n",
    "    train_x = X_train[:int(0.9*X_train.shape[0])]\n",
    "    train_y = y_train[:int(0.9*X_train.shape[0])]\n",
    "    valid_x = X_train[int(0.9*X_train.shape[0]):]\n",
    "    valid_y = y_train[int(0.9*X_train.shape[0]):]\n",
    "    lgb_train = lgb.Dataset(data=train_x,label=train_y)\n",
    "    lgb_valid = lgb.Dataset(data=valid_x,label=valid_y)\n",
    "    lgb_test = lgb.Dataset(data=X_test,label=y_test)\n",
    "    \n",
    "    return lgb_train,lgb_valid,lgb_test\n",
    "\n",
    "def train_lgb(train_data,val_data,lgb_param,num_round,early_stop,nfold,is_cv=True):\n",
    "    evals_result = {}\n",
    "    if is_cv:\n",
    "        lgb_model = lgb.cv(params=lgb_param, \n",
    "                      train_set = train_data, \n",
    "                       num_boost_round = num_round,\n",
    "                      feval=lgb_f1_score, \n",
    "                      early_stopping_rounds=early_stop,\n",
    "                       nfold=nfold,\n",
    "                       verbose_eval=False\n",
    "                      )\n",
    "    if not is_cv:\n",
    "        lgb_model = lgb.train(params=lgb_param, \n",
    "                              train_set = train_data, \n",
    "                              valid_sets=[val_data, train_data], \n",
    "                              valid_names=['val', 'train'],\n",
    "                              num_boost_round = num_round,\n",
    "                              feval=lgb_f1_score, \n",
    "                              #early_stopping_rounds=early_stop,\n",
    "                              verbose_eval=False)\n",
    "    \n",
    "    return lgb_model\n"
   ]
  },
  {
   "cell_type": "code",
   "execution_count": 48,
   "metadata": {
    "ExecuteTime": {
     "end_time": "2019-09-23T04:38:43.560572Z",
     "start_time": "2019-09-23T04:38:43.553339Z"
    }
   },
   "outputs": [],
   "source": [
    "def model_topn(topN_vec,model,train_x,test_x,train_y,test_y,cell,type):\n",
    "    res = []\n",
    "    for topN in topN_vec:\n",
    "        features = get_lgb_feature_top(model,topN)\n",
    "        features = features['feature_name'].tolist()\n",
    "        \n",
    "        train_x_ = train_x[features]\n",
    "        test_x_ = test_x[features]\n",
    "        \n",
    "        train_lgb_,valid_lgb_,_ = generate_lgb_use_data(train_x_,train_y,test_x_,test_y)\n",
    "        \n",
    "        lgb = train_lgb(train_lgb_,valid_lgb_,lgb_param,num_round,early_stop,nfold,is_cv=False)\n",
    "\n",
    "        lgb_pred = lgb.predict(test_x_,num_iteration=lgb.best_iteration)\n",
    "        f1 = f1_score(test_y,prob2label(lgb_pred))\n",
    "        print('cell={} On type={} use topN={},f1={}'.format(cell,type,topN,f1))\n",
    "        res.append(f1)\n",
    "    return res"
   ]
  },
  {
   "cell_type": "code",
   "execution_count": 49,
   "metadata": {
    "ExecuteTime": {
     "end_time": "2019-09-23T04:38:43.565098Z",
     "start_time": "2019-09-23T04:38:43.562512Z"
    }
   },
   "outputs": [],
   "source": [
    "topn_vec = [20,60,100,140,180]"
   ]
  },
  {
   "cell_type": "markdown",
   "metadata": {
    "ExecuteTime": {
     "end_time": "2019-08-18T08:03:37.416035Z",
     "start_time": "2019-08-18T08:03:37.413269Z"
    }
   },
   "source": [
    "### all features top n"
   ]
  },
  {
   "cell_type": "code",
   "execution_count": 50,
   "metadata": {
    "ExecuteTime": {
     "end_time": "2019-09-23T04:42:48.348542Z",
     "start_time": "2019-09-23T04:38:43.566962Z"
    }
   },
   "outputs": [
    {
     "name": "stdout",
     "output_type": "stream",
     "text": [
      "cell=k562 On type=all use topN=20,f1=0.8574908647990255\n",
      "cell=k562 On type=all use topN=60,f1=0.886977886977887\n",
      "cell=k562 On type=all use topN=100,f1=0.8733087330873308\n",
      "cell=k562 On type=all use topN=140,f1=0.889705882352941\n",
      "cell=k562 On type=all use topN=180,f1=0.8905109489051095\n"
     ]
    }
   ],
   "source": [
    "k562_topn_merged = model_topn(topn_vec,k562_lgb_merged,k562_merged_train_x,\n",
    "                               k562_merged_test_x,k562_merged_train_y,k562_merged_test_y,\n",
    "                               'k562','all')"
   ]
  },
  {
   "cell_type": "code",
   "execution_count": 51,
   "metadata": {
    "ExecuteTime": {
     "end_time": "2019-09-23T04:47:04.328631Z",
     "start_time": "2019-09-23T04:42:48.353684Z"
    }
   },
   "outputs": [
    {
     "name": "stdout",
     "output_type": "stream",
     "text": [
      "cell=GM12878 On type=all use topN=20,f1=0.6554433221099888\n"
     ]
    },
    {
     "name": "stderr",
     "output_type": "stream",
     "text": [
      "/opt/current-env/anaconda3/lib/python3.7/site-packages/sklearn/metrics/classification.py:1437: UndefinedMetricWarning: F-score is ill-defined and being set to 0.0 due to no predicted samples.\n",
      "  'precision', 'predicted', average, warn_for)\n"
     ]
    },
    {
     "name": "stdout",
     "output_type": "stream",
     "text": [
      "cell=GM12878 On type=all use topN=60,f1=0.7469879518072289\n",
      "cell=GM12878 On type=all use topN=100,f1=0.7812840043525571\n",
      "cell=GM12878 On type=all use topN=140,f1=0.7885462555066078\n",
      "cell=GM12878 On type=all use topN=180,f1=0.8129175946547884\n"
     ]
    }
   ],
   "source": [
    "gm12878_topn_merged = model_topn(topn_vec,\n",
    "                                 gm12878_lgb_merged,\n",
    "                                 gm12878_merged_train_x,\n",
    "                                gm12878_merged_test_x,\n",
    "                                 gm12878_merged_train_y,\n",
    "                                 gm12878_merged_test_y,\n",
    "                                 'GM12878','all')"
   ]
  },
  {
   "cell_type": "code",
   "execution_count": 52,
   "metadata": {
    "ExecuteTime": {
     "end_time": "2019-09-23T04:50:52.606466Z",
     "start_time": "2019-09-23T04:47:04.331431Z"
    }
   },
   "outputs": [
    {
     "name": "stdout",
     "output_type": "stream",
     "text": [
      "cell=IMR90 On type=all use topN=20,f1=0.7243460764587525\n",
      "cell=IMR90 On type=all use topN=60,f1=0.7667342799188641\n",
      "cell=IMR90 On type=all use topN=100,f1=0.7695473251028807\n",
      "cell=IMR90 On type=all use topN=140,f1=0.7992125984251968\n",
      "cell=IMR90 On type=all use topN=180,f1=0.8117647058823529\n"
     ]
    }
   ],
   "source": [
    "imr90_topn_merged = model_topn(topn_vec,imr90_lgb_merged,\n",
    "                                imr90_merged_train_x,\n",
    "                                imr90_merged_test_x,\n",
    "                                 imr90_merged_train_y,\n",
    "                                 imr90_merged_test_y,\n",
    "                               'IMR90','all')"
   ]
  },
  {
   "cell_type": "code",
   "execution_count": 53,
   "metadata": {
    "ExecuteTime": {
     "end_time": "2019-09-23T04:54:43.520226Z",
     "start_time": "2019-09-23T04:50:52.620066Z"
    }
   },
   "outputs": [
    {
     "name": "stdout",
     "output_type": "stream",
     "text": [
      "cell=IHUVEC On type=all use topN=20,f1=0.7684887459807075\n",
      "cell=IHUVEC On type=all use topN=60,f1=0.8045234248788369\n",
      "cell=IHUVEC On type=all use topN=100,f1=0.799347471451876\n",
      "cell=IHUVEC On type=all use topN=140,f1=0.7823240589198036\n",
      "cell=IHUVEC On type=all use topN=180,f1=0.7927631578947368\n"
     ]
    }
   ],
   "source": [
    "huvec_topn_merged = model_topn(topn_vec,huvec_lgb_merged,\n",
    "                               huvec_merged_train_x,\n",
    "                                huvec_merged_test_x,\n",
    "                                 huvec_merged_train_y,\n",
    "                                 huvec_merged_test_y\n",
    "                               ,'IHUVEC','all')"
   ]
  },
  {
   "cell_type": "code",
   "execution_count": 54,
   "metadata": {
    "ExecuteTime": {
     "end_time": "2019-09-23T04:58:19.163179Z",
     "start_time": "2019-09-23T04:54:43.532032Z"
    }
   },
   "outputs": [
    {
     "name": "stdout",
     "output_type": "stream",
     "text": [
      "cell=NHEK On type=all use topN=20,f1=0.8601769911504425\n",
      "cell=NHEK On type=all use topN=60,f1=0.881294964028777\n",
      "cell=NHEK On type=all use topN=100,f1=0.8849557522123894\n",
      "cell=NHEK On type=all use topN=140,f1=0.8971631205673759\n",
      "cell=NHEK On type=all use topN=180,f1=0.9253187613843352\n"
     ]
    }
   ],
   "source": [
    "nhek_topn_merged = model_topn(topn_vec,nhek_lgb_merged,\n",
    "                                 nhek_merged_train_x,\n",
    "                                nhek_merged_test_x,\n",
    "                                 nhek_merged_train_y,\n",
    "                                 nhek_merged_test_y,\n",
    "                              'NHEK','all')"
   ]
  },
  {
   "cell_type": "code",
   "execution_count": 55,
   "metadata": {
    "ExecuteTime": {
     "end_time": "2019-09-23T05:02:04.498324Z",
     "start_time": "2019-09-23T04:58:19.168685Z"
    }
   },
   "outputs": [
    {
     "name": "stdout",
     "output_type": "stream",
     "text": [
      "cell=HELAS3 On type=all use topN=20,f1=0.7417974322396578\n",
      "cell=HELAS3 On type=all use topN=60,f1=0.7926657263751763\n",
      "cell=HELAS3 On type=all use topN=100,f1=0.8106591865357644\n",
      "cell=HELAS3 On type=all use topN=140,f1=0.8567293777134588\n",
      "cell=HELAS3 On type=all use topN=180,f1=0.8709219858156029\n"
     ]
    }
   ],
   "source": [
    "helas3_topn_merged = model_topn(topn_vec,helas3_lgb_merged,\n",
    "                                helas3_merged_train_x,\n",
    "                                helas3_merged_test_x,\n",
    "                                 helas3_merged_train_y,\n",
    "                                 helas3_merged_test_y,\n",
    "                                'HELAS3','all')"
   ]
  },
  {
   "cell_type": "code",
   "execution_count": null,
   "metadata": {
    "ExecuteTime": {
     "end_time": "2019-08-18T08:23:02.578334Z",
     "start_time": "2019-08-18T08:23:02.572938Z"
    }
   },
   "outputs": [],
   "source": []
  },
  {
   "cell_type": "markdown",
   "metadata": {},
   "source": [
    "# Visualiazation"
   ]
  },
  {
   "cell_type": "code",
   "execution_count": 56,
   "metadata": {
    "ExecuteTime": {
     "end_time": "2019-09-23T05:02:04.523589Z",
     "start_time": "2019-09-23T05:02:04.505285Z"
    }
   },
   "outputs": [],
   "source": [
    "import matplotlib.pyplot as plt"
   ]
  },
  {
   "cell_type": "code",
   "execution_count": 57,
   "metadata": {
    "ExecuteTime": {
     "end_time": "2019-09-23T05:02:04.535124Z",
     "start_time": "2019-09-23T05:02:04.528606Z"
    }
   },
   "outputs": [],
   "source": [
    "y_ticks = [0.2,0.4,0.6,0.8]"
   ]
  },
  {
   "cell_type": "code",
   "execution_count": 58,
   "metadata": {
    "ExecuteTime": {
     "end_time": "2019-09-23T05:02:04.540518Z",
     "start_time": "2019-09-23T05:02:04.537234Z"
    }
   },
   "outputs": [],
   "source": [
    "various_region = ['Enhancer','Promoter2k','Window','EPW','sequence']"
   ]
  },
  {
   "cell_type": "code",
   "execution_count": 59,
   "metadata": {
    "ExecuteTime": {
     "end_time": "2019-09-23T05:04:51.821950Z",
     "start_time": "2019-09-23T05:04:51.819439Z"
    }
   },
   "outputs": [],
   "source": [
    "import matplotlib.gridspec as gridspec"
   ]
  },
  {
   "cell_type": "code",
   "execution_count": 65,
   "metadata": {
    "ExecuteTime": {
     "end_time": "2019-09-23T05:37:53.327351Z",
     "start_time": "2019-09-23T05:37:44.489698Z"
    }
   },
   "outputs": [
    {
     "data": {
      "image/png": "[encoded data removed]",
      "text/plain": [
       "<Figure size 1440x720 with 7 Axes>"
      ]
     },
     "metadata": {
      "needs_background": "light"
     },
     "output_type": "display_data"
    }
   ],
   "source": [
    "def vis21():\n",
    "    matplotlib.rc(\"legend\", fontsize=20)\n",
    "    x_tick_size = 14\n",
    "    y_tick_size = 16\n",
    "    title_size = 18\n",
    "    \n",
    "    x_varies_model = ['SVC','Adaboost','LightGBM']\n",
    "    width = 0.5\n",
    "    fig = plt.figure(figsize=(20,10))\n",
    "    gs = gridspec.GridSpec(3,4)\n",
    "    ##########################################################\n",
    "    ax1 = plt.subplot(gs[0, 0])\n",
    "    ax1.bar(x_varies_model, [k562_svm_merged_f1,k562_ada_merged_f1,k562_lgb_merged_f1], width,color='r')\n",
    "    ax1.set_yticks(y_ticks)\n",
    "    #ax1.set_ylim(0.5,0.96)\n",
    "    ax1.spines['right'].set_visible(False)\n",
    "    ax1.spines['top'].set_visible(False)\n",
    "    ax1.set_title('K562',fontsize=title_size)\n",
    "    #ax1.margins(x=0, y=0)\n",
    "    plt.xticks(fontsize=x_tick_size)\n",
    "    plt.yticks(fontsize=y_tick_size)\n",
    "    plt.subplots_adjust(wspace=0, hspace=0)\n",
    "    plt.setp(ax1.get_xticklabels(), visible=False)\n",
    "    ##############################################################\n",
    "    ax2 = plt.subplot(gs[0, 1])\n",
    "    ax2.bar(x_varies_model, [imr90_svm_merged_f1,imr90_ada_merged_f1,imr90_lgb_merged_f1], width,color='y')\n",
    "    ax2.set_yticks([])\n",
    "    ax2.spines['right'].set_visible(False)\n",
    "    ax2.spines['top'].set_visible(False)\n",
    "    ax2.spines['left'].set_visible(False)\n",
    "    #ax2.spines['left'].set_visible(False)\n",
    "    #ax2.set_yticks([])\n",
    "    ax2.set_title('IMR90',fontsize=title_size)\n",
    "    #ax2.margins(x=5, y=5)   \n",
    "    plt.xticks(fontsize=x_tick_size)\n",
    "    plt.yticks(fontsize=y_tick_size)\n",
    "    plt.setp(ax2.get_xticklabels(), visible=False)\n",
    "    ###################################################################\n",
    "    ax3 = plt.subplot(gs[1, 0],sharey=ax1)\n",
    "    ax3.bar(x_varies_model, [gm12878_svm_merged_f1,gm12878_ada_merged_f1,gm12878_lgb_merged_f1], width,color='b')\n",
    "    #ax3.set_yticks(y_ticks)\n",
    "    ax3.spines['right'].set_visible(False)\n",
    "    ax3.spines['top'].set_visible(False)\n",
    "    #ax3.spines['left'].set_visible(False)\n",
    "    ax3.set_title('GM12878',fontsize=title_size)\n",
    "    #ax3.set_yticks(y_ticks)\n",
    "    ax3.set_xticks([])\n",
    "    #ax3.set_xlabel('3 cell lines on 4 algorithms',size=15)\n",
    "    plt.xticks(fontsize=x_tick_size)\n",
    "    plt.yticks(fontsize=y_tick_size)\n",
    "\n",
    "    ax3.annotate('Performance(F1-score)', (-0.1, 0.4), xytext=(-30, -1),\n",
    "                        textcoords='offset points', xycoords='axes fraction',\n",
    "                        ha='right', va='center', size=22, rotation=90)\n",
    "\n",
    "    ax3.annotate('a', (-0.01,2.5),xytext=(1, 0),\n",
    "                        textcoords='offset points', xycoords='axes fraction',\n",
    "                        ha='right', va='center', size=25, rotation=0)\n",
    "    ######################################################################\n",
    "    ax4 = plt.subplot(gs[1, 1])\n",
    "    ax4.bar(x_varies_model, [huvec_svm_merged_f1,huvec_ada_merged_f1,huvec_lgb_merged_f1], width,color='fuchsia')\n",
    "    ax4.set_xticks([])\n",
    "    ax4.set_yticks([])\n",
    "    #ax1.set_ylim(0.5,0.96)\n",
    "    ax4.spines['right'].set_visible(False)\n",
    "    ax4.spines['top'].set_visible(False)\n",
    "    ax4.spines['left'].set_visible(False)\n",
    "    \n",
    "    ax4.set_title('HUVEC',fontsize=title_size)\n",
    "    plt.xticks(fontsize=x_tick_size)\n",
    "    plt.yticks(fontsize=y_tick_size)\n",
    "    plt.setp(ax1.get_xticklabels(), visible=False)\n",
    "    ##############################################\n",
    "    ax5 = plt.subplot(gs[2, 0],sharey=ax1)\n",
    "    ax5.bar(x_varies_model,[nhek_svm_merged_f1,nhek_ada_merged_f1,nhek_lgb_merged_f1], width,color='lightsalmon')\n",
    "    #ax5.set_yticks([])\n",
    "    #ax5.set_xticks([])\n",
    "    ax5.spines['right'].set_visible(False)\n",
    "    ax5.spines['top'].set_visible(False)\n",
    "    #ax5.spines['left'].set_visible(False)\n",
    "    ax5.set_title('NHEK',fontsize=title_size)\n",
    "    plt.xticks(fontsize=x_tick_size)\n",
    "    plt.yticks(fontsize=y_tick_size)\n",
    "    plt.setp(ax2.get_xticklabels(), visible=False)\n",
    "    #########################################################\n",
    "    ax6 = plt.subplot(gs[2, 1])\n",
    "    ax6.bar(x_varies_model, [helas3_svm_merged_f1,helas3_ada_merged_f1,helas3_lgb_merged_f1], width,color='maroon')\n",
    "    ax6.set_yticks([])\n",
    "    #ax6.set_xticks([])\n",
    "    ax6.spines['right'].set_visible(False)\n",
    "    ax6.spines['top'].set_visible(False)\n",
    "    ax6.spines['left'].set_visible(False)\n",
    "    ax6.set_title('HeLa S3',fontsize=title_size)\n",
    "    #ax6.set_xticks()\n",
    "    plt.xticks(fontsize=x_tick_size)\n",
    "    plt.yticks(fontsize=y_tick_size)\n",
    "    #plt.setp(ax6.get_xticklabels(), visible=False)\n",
    "    \n",
    "    \n",
    "    ax5.annotate('Three Algotithms On Six Cell Lines', (2.3, -0.35), xytext=(-30, -1),\n",
    "                        textcoords='offset points', xycoords='axes fraction',\n",
    "                        ha='right', va='center', size=22, rotation=0)\n",
    "    \n",
    "    x = topn_vec\n",
    "    ax13 = plt.subplot(gs[:,2:4])\n",
    "    ax13.plot(x,k562_topn_merged,label='K562',color='aquamarine',marker='|',linewidth=2)\n",
    "    ax13.plot(x,imr90_topn_merged,label='IMR90',color='mediumaquamarine',marker='|',linewidth=2)\n",
    "    ax13.plot(x,gm12878_topn_merged,label='GM12878',color='sandybrown',marker='|',linewidth=2)\n",
    "    ax13.plot(x,huvec_topn_merged,label='HUVEC',color='lightgreen',marker='|',linewidth=2)\n",
    "    ax13.plot(x,nhek_topn_merged,label='NHEK',color='gold',marker='|',linewidth=2)\n",
    "    ax13.plot(x,helas3_topn_merged,label='Hela S3',color='violet',marker='|',linewidth=2)\n",
    "    ax13.spines['right'].set_visible(False)\n",
    "    ax13.spines['top'].set_visible(False)\n",
    "    ax13.set_title('F1-score',fontsize=title_size)\n",
    "    ax13.set_xticks(topn_vec)\n",
    "    #ax13.set_xlabel('number of top features included',size=15)\n",
    "    plt.xticks(fontsize=x_tick_size)\n",
    "    plt.yticks(fontsize=y_tick_size)\n",
    "    \n",
    "    plt.legend()\n",
    "    \n",
    "    \n",
    "    ax13.annotate('Number Of Top Features Included', (0.95, -0.1), xytext=(-30, -1),\n",
    "                        textcoords='offset points', xycoords='axes fraction',\n",
    "                        ha='right', va='center', size=22, rotation=0)\n",
    "\n",
    "    ax13.annotate('b', (-0.04,1.09),xytext=(1, 1),\n",
    "                        textcoords='offset points', xycoords='axes fraction',\n",
    "                        ha='right', va='center', size=25, rotation=0)\n",
    "    \n",
    "    for ax in [ax1,ax2,ax3,ax4,ax5,ax6]:\n",
    "        ax.grid(False)\n",
    "    \n",
    "    \n",
    "    plt.subplots_adjust(wspace=0.5, hspace=0.2)\n",
    "    \n",
    "    plt.savefig('./complex_standards_8-9.png',quality=95,dpi=600,bbox_inches = 'tight')\n",
    "    \n",
    "vis21()"
   ]
  },
  {
   "cell_type": "code",
   "execution_count": null,
   "metadata": {
    "ExecuteTime": {
     "end_time": "2019-08-20T12:00:22.445875Z",
     "start_time": "2019-08-20T12:00:13.485457Z"
    },
    "scrolled": true
   },
   "outputs": [],
   "source": []
  },
  {
   "cell_type": "code",
   "execution_count": null,
   "metadata": {},
   "outputs": [],
   "source": []
  },
  {
   "cell_type": "code",
   "execution_count": null,
   "metadata": {},
   "outputs": [],
   "source": []
  },
  {
   "cell_type": "code",
   "execution_count": null,
   "metadata": {},
   "outputs": [],
   "source": []
  },
  {
   "cell_type": "code",
   "execution_count": null,
   "metadata": {},
   "outputs": [],
   "source": []
  },
  {
   "cell_type": "code",
   "execution_count": null,
   "metadata": {},
   "outputs": [],
   "source": []
  },
  {
   "cell_type": "code",
   "execution_count": null,
   "metadata": {},
   "outputs": [],
   "source": []
  },
  {
   "cell_type": "code",
   "execution_count": null,
   "metadata": {},
   "outputs": [],
   "source": []
  },
  {
   "cell_type": "code",
   "execution_count": null,
   "metadata": {},
   "outputs": [],
   "source": []
  },
  {
   "cell_type": "code",
   "execution_count": null,
   "metadata": {},
   "outputs": [],
   "source": []
  },
  {
   "cell_type": "code",
   "execution_count": null,
   "metadata": {},
   "outputs": [],
   "source": []
  },
  {
   "cell_type": "code",
   "execution_count": null,
   "metadata": {},
   "outputs": [],
   "source": []
  },
  {
   "cell_type": "markdown",
   "metadata": {},
   "source": [
    "# Compare Visualization"
   ]
  },
  {
   "cell_type": "code",
   "execution_count": 60,
   "metadata": {
    "ExecuteTime": {
     "end_time": "2019-08-20T12:00:28.496230Z",
     "start_time": "2019-08-20T12:00:28.491924Z"
    }
   },
   "outputs": [],
   "source": [
    "def generate_data(data_dict):\n",
    "    judge_flag = ['F1','AUC','MCC']\n",
    "    compare_obj = ['EpPredictor','TargetFinder','PEP']\n",
    "    df = []\n",
    "    for obj in compare_obj:\n",
    "        obj_info = data_dict[obj]\n",
    "        for flag in judge_flag:\n",
    "            val = obj_info[flag.lower()]\n",
    "            tmp = [obj,flag,val]\n",
    "            df.append(tmp)\n",
    "    df = pd.DataFrame(df,columns=['','judge_flag','val'])\n",
    "    \n",
    "    return df  "
   ]
  },
  {
   "cell_type": "code",
   "execution_count": 61,
   "metadata": {
    "ExecuteTime": {
     "end_time": "2019-08-20T12:00:34.886031Z",
     "start_time": "2019-08-20T12:00:34.881824Z"
    }
   },
   "outputs": [],
   "source": [
    "# k562\n",
    "k562_info_dict = {'TargetFinder':{'f1':0.85,'auc':0.90, 'mcc':0.84},\n",
    "                    'PEP':{'f1':0.82,'auc':0.95,'mcc':0.81},\n",
    "                    'EpPredictor':{'f1':k562_lgb_merged_f1,'auc':k562_lgb_merged_auc,'mcc':k562_lgb_merged_mcc} \n",
    "                }\n",
    "k562_info = generate_data(k562_info_dict)"
   ]
  },
  {
   "cell_type": "code",
   "execution_count": 62,
   "metadata": {
    "ExecuteTime": {
     "end_time": "2019-08-20T12:00:41.008972Z",
     "start_time": "2019-08-20T12:00:41.001017Z"
    }
   },
   "outputs": [
    {
     "data": {
      "text/html": [
       "<div>\n",
       "<style scoped>\n",
       "    .dataframe tbody tr th:only-of-type {\n",
       "        vertical-align: middle;\n",
       "    }\n",
       "\n",
       "    .dataframe tbody tr th {\n",
       "        vertical-align: top;\n",
       "    }\n",
       "\n",
       "    .dataframe thead th {\n",
       "        text-align: right;\n",
       "    }\n",
       "</style>\n",
       "<table border=\"1\" class=\"dataframe\">\n",
       "  <thead>\n",
       "    <tr style=\"text-align: right;\">\n",
       "      <th></th>\n",
       "      <th></th>\n",
       "      <th>judge_flag</th>\n",
       "      <th>val</th>\n",
       "    </tr>\n",
       "  </thead>\n",
       "  <tbody>\n",
       "    <tr>\n",
       "      <th>0</th>\n",
       "      <td>EpPredictor</td>\n",
       "      <td>F1</td>\n",
       "      <td>0.905055</td>\n",
       "    </tr>\n",
       "    <tr>\n",
       "      <th>1</th>\n",
       "      <td>EpPredictor</td>\n",
       "      <td>AUC</td>\n",
       "      <td>0.957055</td>\n",
       "    </tr>\n",
       "    <tr>\n",
       "      <th>2</th>\n",
       "      <td>EpPredictor</td>\n",
       "      <td>MCC</td>\n",
       "      <td>0.805257</td>\n",
       "    </tr>\n",
       "    <tr>\n",
       "      <th>3</th>\n",
       "      <td>TargetFinder</td>\n",
       "      <td>F1</td>\n",
       "      <td>0.850000</td>\n",
       "    </tr>\n",
       "    <tr>\n",
       "      <th>4</th>\n",
       "      <td>TargetFinder</td>\n",
       "      <td>AUC</td>\n",
       "      <td>0.900000</td>\n",
       "    </tr>\n",
       "    <tr>\n",
       "      <th>5</th>\n",
       "      <td>TargetFinder</td>\n",
       "      <td>MCC</td>\n",
       "      <td>0.840000</td>\n",
       "    </tr>\n",
       "    <tr>\n",
       "      <th>6</th>\n",
       "      <td>PEP</td>\n",
       "      <td>F1</td>\n",
       "      <td>0.820000</td>\n",
       "    </tr>\n",
       "    <tr>\n",
       "      <th>7</th>\n",
       "      <td>PEP</td>\n",
       "      <td>AUC</td>\n",
       "      <td>0.950000</td>\n",
       "    </tr>\n",
       "    <tr>\n",
       "      <th>8</th>\n",
       "      <td>PEP</td>\n",
       "      <td>MCC</td>\n",
       "      <td>0.810000</td>\n",
       "    </tr>\n",
       "  </tbody>\n",
       "</table>\n",
       "</div>"
      ],
      "text/plain": [
       "                judge_flag       val\n",
       "0   EpPredictor         F1  0.905055\n",
       "1   EpPredictor        AUC  0.957055\n",
       "2   EpPredictor        MCC  0.805257\n",
       "3  TargetFinder         F1  0.850000\n",
       "4  TargetFinder        AUC  0.900000\n",
       "5  TargetFinder        MCC  0.840000\n",
       "6           PEP         F1  0.820000\n",
       "7           PEP        AUC  0.950000\n",
       "8           PEP        MCC  0.810000"
      ]
     },
     "execution_count": 62,
     "metadata": {},
     "output_type": "execute_result"
    }
   ],
   "source": [
    "k562_info"
   ]
  },
  {
   "cell_type": "code",
   "execution_count": 63,
   "metadata": {
    "ExecuteTime": {
     "end_time": "2019-08-20T12:00:47.091488Z",
     "start_time": "2019-08-20T12:00:47.087225Z"
    }
   },
   "outputs": [],
   "source": [
    "imr90_info_dict = {'TargetFinder':{'f1':0.78,'auc':0.86, 'mcc':0.78},\n",
    "                    'PEP':{'f1':0.84,'auc':0.94,'mcc':0.83},\n",
    "                    'EpPredictor':{'f1':imr90_lgb_merged_f1,'auc':imr90_lgb_merged_auc,'mcc':imr90_lgb_merged_mcc}\n",
    "}\n",
    "imr90_info = generate_data(imr90_info_dict)"
   ]
  },
  {
   "cell_type": "code",
   "execution_count": 64,
   "metadata": {
    "ExecuteTime": {
     "end_time": "2019-08-20T12:00:53.206998Z",
     "start_time": "2019-08-20T12:00:53.199775Z"
    }
   },
   "outputs": [
    {
     "data": {
      "text/html": [
       "<div>\n",
       "<style scoped>\n",
       "    .dataframe tbody tr th:only-of-type {\n",
       "        vertical-align: middle;\n",
       "    }\n",
       "\n",
       "    .dataframe tbody tr th {\n",
       "        vertical-align: top;\n",
       "    }\n",
       "\n",
       "    .dataframe thead th {\n",
       "        text-align: right;\n",
       "    }\n",
       "</style>\n",
       "<table border=\"1\" class=\"dataframe\">\n",
       "  <thead>\n",
       "    <tr style=\"text-align: right;\">\n",
       "      <th></th>\n",
       "      <th></th>\n",
       "      <th>judge_flag</th>\n",
       "      <th>val</th>\n",
       "    </tr>\n",
       "  </thead>\n",
       "  <tbody>\n",
       "    <tr>\n",
       "      <th>0</th>\n",
       "      <td>EpPredictor</td>\n",
       "      <td>F1</td>\n",
       "      <td>0.845996</td>\n",
       "    </tr>\n",
       "    <tr>\n",
       "      <th>1</th>\n",
       "      <td>EpPredictor</td>\n",
       "      <td>AUC</td>\n",
       "      <td>0.928044</td>\n",
       "    </tr>\n",
       "    <tr>\n",
       "      <th>2</th>\n",
       "      <td>EpPredictor</td>\n",
       "      <td>MCC</td>\n",
       "      <td>0.703915</td>\n",
       "    </tr>\n",
       "    <tr>\n",
       "      <th>3</th>\n",
       "      <td>TargetFinder</td>\n",
       "      <td>F1</td>\n",
       "      <td>0.780000</td>\n",
       "    </tr>\n",
       "    <tr>\n",
       "      <th>4</th>\n",
       "      <td>TargetFinder</td>\n",
       "      <td>AUC</td>\n",
       "      <td>0.860000</td>\n",
       "    </tr>\n",
       "    <tr>\n",
       "      <th>5</th>\n",
       "      <td>TargetFinder</td>\n",
       "      <td>MCC</td>\n",
       "      <td>0.780000</td>\n",
       "    </tr>\n",
       "    <tr>\n",
       "      <th>6</th>\n",
       "      <td>PEP</td>\n",
       "      <td>F1</td>\n",
       "      <td>0.840000</td>\n",
       "    </tr>\n",
       "    <tr>\n",
       "      <th>7</th>\n",
       "      <td>PEP</td>\n",
       "      <td>AUC</td>\n",
       "      <td>0.940000</td>\n",
       "    </tr>\n",
       "    <tr>\n",
       "      <th>8</th>\n",
       "      <td>PEP</td>\n",
       "      <td>MCC</td>\n",
       "      <td>0.830000</td>\n",
       "    </tr>\n",
       "  </tbody>\n",
       "</table>\n",
       "</div>"
      ],
      "text/plain": [
       "                judge_flag       val\n",
       "0   EpPredictor         F1  0.845996\n",
       "1   EpPredictor        AUC  0.928044\n",
       "2   EpPredictor        MCC  0.703915\n",
       "3  TargetFinder         F1  0.780000\n",
       "4  TargetFinder        AUC  0.860000\n",
       "5  TargetFinder        MCC  0.780000\n",
       "6           PEP         F1  0.840000\n",
       "7           PEP        AUC  0.940000\n",
       "8           PEP        MCC  0.830000"
      ]
     },
     "execution_count": 64,
     "metadata": {},
     "output_type": "execute_result"
    }
   ],
   "source": [
    "imr90_info"
   ]
  },
  {
   "cell_type": "code",
   "execution_count": 65,
   "metadata": {
    "ExecuteTime": {
     "end_time": "2019-08-20T12:00:59.281723Z",
     "start_time": "2019-08-20T12:00:59.277524Z"
    }
   },
   "outputs": [],
   "source": [
    "gm12878_info_dict= {'TargetFinder':{'f1':0.81,'auc':0.87, 'mcc':0.81},\n",
    "                    'PEP':{'f1':0.84,'auc':0.95,'mcc':0.84},\n",
    "                     'EpPredictor':{'f1':gm12878_lgb_merged_f1,'auc':gm12878_lgb_merged_auc,'mcc':gm12878_lgb_merged_mcc}\n",
    "}\n",
    "gm12878_info = generate_data(gm12878_info_dict)"
   ]
  },
  {
   "cell_type": "code",
   "execution_count": 66,
   "metadata": {
    "ExecuteTime": {
     "end_time": "2019-08-20T12:01:05.431593Z",
     "start_time": "2019-08-20T12:01:05.424313Z"
    }
   },
   "outputs": [
    {
     "data": {
      "text/html": [
       "<div>\n",
       "<style scoped>\n",
       "    .dataframe tbody tr th:only-of-type {\n",
       "        vertical-align: middle;\n",
       "    }\n",
       "\n",
       "    .dataframe tbody tr th {\n",
       "        vertical-align: top;\n",
       "    }\n",
       "\n",
       "    .dataframe thead th {\n",
       "        text-align: right;\n",
       "    }\n",
       "</style>\n",
       "<table border=\"1\" class=\"dataframe\">\n",
       "  <thead>\n",
       "    <tr style=\"text-align: right;\">\n",
       "      <th></th>\n",
       "      <th></th>\n",
       "      <th>judge_flag</th>\n",
       "      <th>val</th>\n",
       "    </tr>\n",
       "  </thead>\n",
       "  <tbody>\n",
       "    <tr>\n",
       "      <th>0</th>\n",
       "      <td>EpPredictor</td>\n",
       "      <td>F1</td>\n",
       "      <td>0.853958</td>\n",
       "    </tr>\n",
       "    <tr>\n",
       "      <th>1</th>\n",
       "      <td>EpPredictor</td>\n",
       "      <td>AUC</td>\n",
       "      <td>0.919193</td>\n",
       "    </tr>\n",
       "    <tr>\n",
       "      <th>2</th>\n",
       "      <td>EpPredictor</td>\n",
       "      <td>MCC</td>\n",
       "      <td>0.689370</td>\n",
       "    </tr>\n",
       "    <tr>\n",
       "      <th>3</th>\n",
       "      <td>TargetFinder</td>\n",
       "      <td>F1</td>\n",
       "      <td>0.810000</td>\n",
       "    </tr>\n",
       "    <tr>\n",
       "      <th>4</th>\n",
       "      <td>TargetFinder</td>\n",
       "      <td>AUC</td>\n",
       "      <td>0.870000</td>\n",
       "    </tr>\n",
       "    <tr>\n",
       "      <th>5</th>\n",
       "      <td>TargetFinder</td>\n",
       "      <td>MCC</td>\n",
       "      <td>0.810000</td>\n",
       "    </tr>\n",
       "    <tr>\n",
       "      <th>6</th>\n",
       "      <td>PEP</td>\n",
       "      <td>F1</td>\n",
       "      <td>0.840000</td>\n",
       "    </tr>\n",
       "    <tr>\n",
       "      <th>7</th>\n",
       "      <td>PEP</td>\n",
       "      <td>AUC</td>\n",
       "      <td>0.950000</td>\n",
       "    </tr>\n",
       "    <tr>\n",
       "      <th>8</th>\n",
       "      <td>PEP</td>\n",
       "      <td>MCC</td>\n",
       "      <td>0.840000</td>\n",
       "    </tr>\n",
       "  </tbody>\n",
       "</table>\n",
       "</div>"
      ],
      "text/plain": [
       "                judge_flag       val\n",
       "0   EpPredictor         F1  0.853958\n",
       "1   EpPredictor        AUC  0.919193\n",
       "2   EpPredictor        MCC  0.689370\n",
       "3  TargetFinder         F1  0.810000\n",
       "4  TargetFinder        AUC  0.870000\n",
       "5  TargetFinder        MCC  0.810000\n",
       "6           PEP         F1  0.840000\n",
       "7           PEP        AUC  0.950000\n",
       "8           PEP        MCC  0.840000"
      ]
     },
     "execution_count": 66,
     "metadata": {},
     "output_type": "execute_result"
    }
   ],
   "source": [
    "gm12878_info"
   ]
  },
  {
   "cell_type": "code",
   "execution_count": 67,
   "metadata": {
    "ExecuteTime": {
     "end_time": "2019-08-20T12:01:11.536709Z",
     "start_time": "2019-08-20T12:01:11.532304Z"
    }
   },
   "outputs": [],
   "source": [
    "huvec_info_dict = {'TargetFinder':{'f1':0.77,'auc':0.84, 'mcc':0.76},\n",
    "                    'PEP':{'f1':0.75,'auc':0.94,'mcc':0.74},\n",
    "                   'EpPredictor':{'f1':huvec_lgb_merged_f1,'auc':huvec_lgb_merged_auc,'mcc':huvec_lgb_merged_mcc}\n",
    "}\n",
    "huvec_info = generate_data(huvec_info_dict)"
   ]
  },
  {
   "cell_type": "code",
   "execution_count": 68,
   "metadata": {
    "ExecuteTime": {
     "end_time": "2019-08-20T12:01:17.653146Z",
     "start_time": "2019-08-20T12:01:17.642738Z"
    }
   },
   "outputs": [
    {
     "data": {
      "text/html": [
       "<div>\n",
       "<style scoped>\n",
       "    .dataframe tbody tr th:only-of-type {\n",
       "        vertical-align: middle;\n",
       "    }\n",
       "\n",
       "    .dataframe tbody tr th {\n",
       "        vertical-align: top;\n",
       "    }\n",
       "\n",
       "    .dataframe thead th {\n",
       "        text-align: right;\n",
       "    }\n",
       "</style>\n",
       "<table border=\"1\" class=\"dataframe\">\n",
       "  <thead>\n",
       "    <tr style=\"text-align: right;\">\n",
       "      <th></th>\n",
       "      <th></th>\n",
       "      <th>judge_flag</th>\n",
       "      <th>val</th>\n",
       "    </tr>\n",
       "  </thead>\n",
       "  <tbody>\n",
       "    <tr>\n",
       "      <th>0</th>\n",
       "      <td>EpPredictor</td>\n",
       "      <td>F1</td>\n",
       "      <td>0.865574</td>\n",
       "    </tr>\n",
       "    <tr>\n",
       "      <th>1</th>\n",
       "      <td>EpPredictor</td>\n",
       "      <td>AUC</td>\n",
       "      <td>0.935875</td>\n",
       "    </tr>\n",
       "    <tr>\n",
       "      <th>2</th>\n",
       "      <td>EpPredictor</td>\n",
       "      <td>MCC</td>\n",
       "      <td>0.733831</td>\n",
       "    </tr>\n",
       "    <tr>\n",
       "      <th>3</th>\n",
       "      <td>TargetFinder</td>\n",
       "      <td>F1</td>\n",
       "      <td>0.770000</td>\n",
       "    </tr>\n",
       "    <tr>\n",
       "      <th>4</th>\n",
       "      <td>TargetFinder</td>\n",
       "      <td>AUC</td>\n",
       "      <td>0.840000</td>\n",
       "    </tr>\n",
       "    <tr>\n",
       "      <th>5</th>\n",
       "      <td>TargetFinder</td>\n",
       "      <td>MCC</td>\n",
       "      <td>0.760000</td>\n",
       "    </tr>\n",
       "    <tr>\n",
       "      <th>6</th>\n",
       "      <td>PEP</td>\n",
       "      <td>F1</td>\n",
       "      <td>0.750000</td>\n",
       "    </tr>\n",
       "    <tr>\n",
       "      <th>7</th>\n",
       "      <td>PEP</td>\n",
       "      <td>AUC</td>\n",
       "      <td>0.940000</td>\n",
       "    </tr>\n",
       "    <tr>\n",
       "      <th>8</th>\n",
       "      <td>PEP</td>\n",
       "      <td>MCC</td>\n",
       "      <td>0.740000</td>\n",
       "    </tr>\n",
       "  </tbody>\n",
       "</table>\n",
       "</div>"
      ],
      "text/plain": [
       "                judge_flag       val\n",
       "0   EpPredictor         F1  0.865574\n",
       "1   EpPredictor        AUC  0.935875\n",
       "2   EpPredictor        MCC  0.733831\n",
       "3  TargetFinder         F1  0.770000\n",
       "4  TargetFinder        AUC  0.840000\n",
       "5  TargetFinder        MCC  0.760000\n",
       "6           PEP         F1  0.750000\n",
       "7           PEP        AUC  0.940000\n",
       "8           PEP        MCC  0.740000"
      ]
     },
     "execution_count": 68,
     "metadata": {},
     "output_type": "execute_result"
    }
   ],
   "source": [
    "huvec_info"
   ]
  },
  {
   "cell_type": "code",
   "execution_count": 69,
   "metadata": {
    "ExecuteTime": {
     "end_time": "2019-08-20T12:01:23.889972Z",
     "start_time": "2019-08-20T12:01:23.885714Z"
    }
   },
   "outputs": [],
   "source": [
    "nhek_info_dict = {'TargetFinder':{'f1':0.90,'auc':0.93, 'mcc':0.89},\n",
    "                   'PEP':{'f1':0.88,'auc':0.98,'mcc':0.87},\n",
    "                   'EpPredictor':{'f1':nhek_lgb_merged_f1,'auc':nhek_lgb_merged_auc,'mcc':nhek_lgb_merged_mcc}\n",
    "}\n",
    "\n",
    "nhek_info = generate_data(nhek_info_dict)"
   ]
  },
  {
   "cell_type": "code",
   "execution_count": 70,
   "metadata": {
    "ExecuteTime": {
     "end_time": "2019-08-20T12:01:29.985415Z",
     "start_time": "2019-08-20T12:01:29.978034Z"
    }
   },
   "outputs": [
    {
     "data": {
      "text/html": [
       "<div>\n",
       "<style scoped>\n",
       "    .dataframe tbody tr th:only-of-type {\n",
       "        vertical-align: middle;\n",
       "    }\n",
       "\n",
       "    .dataframe tbody tr th {\n",
       "        vertical-align: top;\n",
       "    }\n",
       "\n",
       "    .dataframe thead th {\n",
       "        text-align: right;\n",
       "    }\n",
       "</style>\n",
       "<table border=\"1\" class=\"dataframe\">\n",
       "  <thead>\n",
       "    <tr style=\"text-align: right;\">\n",
       "      <th></th>\n",
       "      <th></th>\n",
       "      <th>judge_flag</th>\n",
       "      <th>val</th>\n",
       "    </tr>\n",
       "  </thead>\n",
       "  <tbody>\n",
       "    <tr>\n",
       "      <th>0</th>\n",
       "      <td>EpPredictor</td>\n",
       "      <td>F1</td>\n",
       "      <td>0.923636</td>\n",
       "    </tr>\n",
       "    <tr>\n",
       "      <th>1</th>\n",
       "      <td>EpPredictor</td>\n",
       "      <td>AUC</td>\n",
       "      <td>0.978339</td>\n",
       "    </tr>\n",
       "    <tr>\n",
       "      <th>2</th>\n",
       "      <td>EpPredictor</td>\n",
       "      <td>MCC</td>\n",
       "      <td>0.840858</td>\n",
       "    </tr>\n",
       "    <tr>\n",
       "      <th>3</th>\n",
       "      <td>TargetFinder</td>\n",
       "      <td>F1</td>\n",
       "      <td>0.900000</td>\n",
       "    </tr>\n",
       "    <tr>\n",
       "      <th>4</th>\n",
       "      <td>TargetFinder</td>\n",
       "      <td>AUC</td>\n",
       "      <td>0.930000</td>\n",
       "    </tr>\n",
       "    <tr>\n",
       "      <th>5</th>\n",
       "      <td>TargetFinder</td>\n",
       "      <td>MCC</td>\n",
       "      <td>0.890000</td>\n",
       "    </tr>\n",
       "    <tr>\n",
       "      <th>6</th>\n",
       "      <td>PEP</td>\n",
       "      <td>F1</td>\n",
       "      <td>0.880000</td>\n",
       "    </tr>\n",
       "    <tr>\n",
       "      <th>7</th>\n",
       "      <td>PEP</td>\n",
       "      <td>AUC</td>\n",
       "      <td>0.980000</td>\n",
       "    </tr>\n",
       "    <tr>\n",
       "      <th>8</th>\n",
       "      <td>PEP</td>\n",
       "      <td>MCC</td>\n",
       "      <td>0.870000</td>\n",
       "    </tr>\n",
       "  </tbody>\n",
       "</table>\n",
       "</div>"
      ],
      "text/plain": [
       "                judge_flag       val\n",
       "0   EpPredictor         F1  0.923636\n",
       "1   EpPredictor        AUC  0.978339\n",
       "2   EpPredictor        MCC  0.840858\n",
       "3  TargetFinder         F1  0.900000\n",
       "4  TargetFinder        AUC  0.930000\n",
       "5  TargetFinder        MCC  0.890000\n",
       "6           PEP         F1  0.880000\n",
       "7           PEP        AUC  0.980000\n",
       "8           PEP        MCC  0.870000"
      ]
     },
     "execution_count": 70,
     "metadata": {},
     "output_type": "execute_result"
    }
   ],
   "source": [
    "nhek_info"
   ]
  },
  {
   "cell_type": "code",
   "execution_count": 71,
   "metadata": {
    "ExecuteTime": {
     "end_time": "2019-08-20T12:01:36.055804Z",
     "start_time": "2019-08-20T12:01:36.051444Z"
    }
   },
   "outputs": [],
   "source": [
    "helas3_info_dict= {'TargetFinder':{'f1':0.87,'auc':0.92, 'mcc':0.87},\n",
    "                    'PEP':{'f1':0.85,'auc':0.96,'mcc':0.84},\n",
    "                    'EpPredictor':{'f1':helas3_lgb_merged_f1,'auc':helas3_lgb_merged_auc,'mcc':helas3_lgb_merged_mcc}\n",
    "}\n",
    "helas3_info = generate_data(helas3_info_dict)"
   ]
  },
  {
   "cell_type": "code",
   "execution_count": 72,
   "metadata": {
    "ExecuteTime": {
     "end_time": "2019-08-20T12:01:42.171533Z",
     "start_time": "2019-08-20T12:01:42.158553Z"
    }
   },
   "outputs": [
    {
     "data": {
      "text/html": [
       "<div>\n",
       "<style scoped>\n",
       "    .dataframe tbody tr th:only-of-type {\n",
       "        vertical-align: middle;\n",
       "    }\n",
       "\n",
       "    .dataframe tbody tr th {\n",
       "        vertical-align: top;\n",
       "    }\n",
       "\n",
       "    .dataframe thead th {\n",
       "        text-align: right;\n",
       "    }\n",
       "</style>\n",
       "<table border=\"1\" class=\"dataframe\">\n",
       "  <thead>\n",
       "    <tr style=\"text-align: right;\">\n",
       "      <th></th>\n",
       "      <th></th>\n",
       "      <th>judge_flag</th>\n",
       "      <th>val</th>\n",
       "    </tr>\n",
       "  </thead>\n",
       "  <tbody>\n",
       "    <tr>\n",
       "      <th>0</th>\n",
       "      <td>EpPredictor</td>\n",
       "      <td>F1</td>\n",
       "      <td>0.896254</td>\n",
       "    </tr>\n",
       "    <tr>\n",
       "      <th>1</th>\n",
       "      <td>EpPredictor</td>\n",
       "      <td>AUC</td>\n",
       "      <td>0.962356</td>\n",
       "    </tr>\n",
       "    <tr>\n",
       "      <th>2</th>\n",
       "      <td>EpPredictor</td>\n",
       "      <td>MCC</td>\n",
       "      <td>0.793635</td>\n",
       "    </tr>\n",
       "    <tr>\n",
       "      <th>3</th>\n",
       "      <td>TargetFinder</td>\n",
       "      <td>F1</td>\n",
       "      <td>0.870000</td>\n",
       "    </tr>\n",
       "    <tr>\n",
       "      <th>4</th>\n",
       "      <td>TargetFinder</td>\n",
       "      <td>AUC</td>\n",
       "      <td>0.920000</td>\n",
       "    </tr>\n",
       "    <tr>\n",
       "      <th>5</th>\n",
       "      <td>TargetFinder</td>\n",
       "      <td>MCC</td>\n",
       "      <td>0.870000</td>\n",
       "    </tr>\n",
       "    <tr>\n",
       "      <th>6</th>\n",
       "      <td>PEP</td>\n",
       "      <td>F1</td>\n",
       "      <td>0.850000</td>\n",
       "    </tr>\n",
       "    <tr>\n",
       "      <th>7</th>\n",
       "      <td>PEP</td>\n",
       "      <td>AUC</td>\n",
       "      <td>0.960000</td>\n",
       "    </tr>\n",
       "    <tr>\n",
       "      <th>8</th>\n",
       "      <td>PEP</td>\n",
       "      <td>MCC</td>\n",
       "      <td>0.840000</td>\n",
       "    </tr>\n",
       "  </tbody>\n",
       "</table>\n",
       "</div>"
      ],
      "text/plain": [
       "                judge_flag       val\n",
       "0   EpPredictor         F1  0.896254\n",
       "1   EpPredictor        AUC  0.962356\n",
       "2   EpPredictor        MCC  0.793635\n",
       "3  TargetFinder         F1  0.870000\n",
       "4  TargetFinder        AUC  0.920000\n",
       "5  TargetFinder        MCC  0.870000\n",
       "6           PEP         F1  0.850000\n",
       "7           PEP        AUC  0.960000\n",
       "8           PEP        MCC  0.840000"
      ]
     },
     "execution_count": 72,
     "metadata": {},
     "output_type": "execute_result"
    }
   ],
   "source": [
    "helas3_info"
   ]
  },
  {
   "cell_type": "code",
   "execution_count": 73,
   "metadata": {
    "ExecuteTime": {
     "end_time": "2019-08-20T12:01:48.326618Z",
     "start_time": "2019-08-20T12:01:48.306834Z"
    }
   },
   "outputs": [],
   "source": [
    "def vis():\n",
    "    \n",
    "    import seaborn as sns\n",
    "    \n",
    "    plt.subplots_adjust(top = 1, bottom = 0, right = 1, left = 0, hspace = 0, wspace = 0)\n",
    "    fig = plt.figure(figsize=(25,15))\n",
    "    width = 0.35\n",
    "\n",
    "    sns.set_palette(\"muted\",1,0.7)\n",
    "\n",
    "    matplotlib.rc(\"legend\", fontsize=20)\n",
    "\n",
    "    ax1 = plt.subplot(2,3,1)\n",
    "    #ax1.set_ylim(0.84,0.96)\n",
    "    ax1.spines['right'].set_visible(False)\n",
    "    ax1.spines['top'].set_visible(False)\n",
    "    #ax1.spines['left'].set_visible(False)\n",
    "    ax1.set_title('K562',fontsize=25)\n",
    "    #ax1.margins(x=5, y=5)\n",
    "    plt.xticks(fontsize=20)\n",
    "    plt.yticks(fontsize=20)\n",
    "    plt.subplots_adjust(wspace=0.5, hspace=0.2)\n",
    "    #plt.setp(ax1.get_xticklabels(), visible=False)\n",
    "    ax_1 = sns.barplot(x=\"judge_flag\", y=\"val\", hue=\"\", data=k562_info,ax=ax1)\n",
    "    ax_1.set_ylabel(\"\")\n",
    "    ax_1.set_xlabel(\"\")\n",
    "    ##########################################################################\n",
    "    ax2 = plt.subplot(2,3,2,sharey=ax1)\n",
    "    #ax1.set_ylim(0.84,0.96)\n",
    "    ax2.spines['right'].set_visible(False)\n",
    "    ax2.spines['top'].set_visible(False)\n",
    "    #ax1.spines['left'].set_visible(False)\n",
    "    ax2.set_title('IMR90',fontsize=25)\n",
    "    #ax1.margins(x=5, y=5)\n",
    "    plt.xticks(fontsize=20)\n",
    "    plt.yticks(fontsize=20)\n",
    "    plt.subplots_adjust(wspace=0.5, hspace=0.2)\n",
    "    #plt.setp(ax1.get_xticklabels(), visible=False)\n",
    "    ax_2 = sns.barplot(x=\"judge_flag\", y=\"val\", hue=\"\", data=imr90_info,ax=ax2)\n",
    "    ax_2.set_ylabel(\"\")\n",
    "    ax_2.set_xlabel(\"\")\n",
    "    ax_2.get_legend().remove()\n",
    "    ##########################################################################\n",
    "    ax3 = plt.subplot(2,3,3,sharey=ax1)\n",
    "    #ax1.set_ylim(0.84,0.96)\n",
    "    ax3.spines['right'].set_visible(False)\n",
    "    ax3.spines['top'].set_visible(False)\n",
    "    #ax1.spines['left'].set_visible(False)\n",
    "    ax3.set_title('GM12878',fontsize=25)\n",
    "    #ax1.margins(x=5, y=5)\n",
    "    plt.xticks(fontsize=20)\n",
    "    plt.yticks(fontsize=20)\n",
    "    plt.subplots_adjust(wspace=0.3, hspace=0.2)\n",
    "    #plt.setp(ax1.get_xticklabels(), visible=False)\n",
    "    ax_3 = sns.barplot(x=\"judge_flag\", y=\"val\", hue=\"\", data=gm12878_info,ax=ax3)\n",
    "    ax_3.set_ylabel(\"\")\n",
    "    ax_3.set_xlabel(\"\")\n",
    "    ax_3.get_legend().remove()\n",
    "\n",
    "    ##########################################################################\n",
    "    ax4 = plt.subplot(2,3,4,sharey=ax1)\n",
    "    #ax1.set_ylim(0.84,0.96)\n",
    "    ax4.spines['right'].set_visible(False)\n",
    "    ax4.spines['top'].set_visible(False)\n",
    "    #ax1.spines['left'].set_visible(False)\n",
    "    ax4.set_title('HUVEC',fontsize=25)\n",
    "    #ax1.margins(x=5, y=5)\n",
    "    plt.xticks(fontsize=20)\n",
    "    plt.yticks(fontsize=20)\n",
    "    plt.subplots_adjust(wspace=0.3, hspace=0.2)\n",
    "    #plt.setp(ax1.get_xticklabels(), visible=False)\n",
    "    ax_4 = sns.barplot(x=\"judge_flag\", y=\"val\", hue=\"\", data=huvec_info,ax=ax4)\n",
    "    ax_4.set_ylabel(\"\")\n",
    "    ax_4.set_xlabel(\"\")\n",
    "    ax_4.get_legend().remove()\n",
    "\n",
    "    ##########################################################################\n",
    "    ax5 = plt.subplot(2,3,5,sharey=ax1)\n",
    "    #ax1.set_ylim(0.84,0.96)\n",
    "    ax5.spines['right'].set_visible(False)\n",
    "    ax5.spines['top'].set_visible(False)\n",
    "    #ax1.spines['left'].set_visible(False)\n",
    "    ax5.set_title('NHEK',fontsize=25)\n",
    "    #ax1.margins(x=5, y=5)\n",
    "    plt.xticks(fontsize=20)\n",
    "    plt.yticks(fontsize=20)\n",
    "    plt.subplots_adjust(wspace=0.3, hspace=0.2)\n",
    "    #plt.setp(ax1.get_xticklabels(), visible=False)\n",
    "    ax_5 = sns.barplot(x=\"judge_flag\", y=\"val\", hue=\"\", data=nhek_info,ax=ax5)\n",
    "    ax_5.set_ylabel(\"\")\n",
    "    ax_5.set_xlabel(\"\")\n",
    "    ax_5.get_legend().remove()\n",
    "    ##########################################################################\n",
    "    ax6 = plt.subplot(2,3,6,sharey=ax1)\n",
    "    #ax1.set_ylim(0.84,0.96)\n",
    "    ax6.spines['right'].set_visible(False)\n",
    "    ax6.spines['top'].set_visible(False)\n",
    "    #ax1.spines['left'].set_visible(False)\n",
    "    ax6.set_title('HeLa S3',fontsize=25)\n",
    "    #ax1.margins(x=5, y=5)\n",
    "    plt.xticks(fontsize=20)\n",
    "    plt.yticks(fontsize=20)\n",
    "    plt.subplots_adjust(wspace=0.3, hspace=0.2)\n",
    "    #plt.setp(ax1.get_xticklabels(), visible=False)\n",
    "    ax_6 = sns.barplot(x=\"judge_flag\", y=\"val\", hue=\"\", data=helas3_info,ax=ax6)\n",
    "    ax_6.set_ylabel(\"\")\n",
    "    ax_6.set_xlabel(\"\")\n",
    "    ax_6.get_legend().remove()\n"
   ]
  },
  {
   "cell_type": "code",
   "execution_count": 111,
   "metadata": {
    "ExecuteTime": {
     "end_time": "2019-08-20T11:40:16.535117Z",
     "start_time": "2019-08-20T11:40:15.680815Z"
    }
   },
   "outputs": [
    {
     "data": {
      "text/plain": [
       "<Figure size 432x288 with 0 Axes>"
      ]
     },
     "metadata": {},
     "output_type": "display_data"
    },
    {
     "data": {
      "image/png": "[encoded data removed]",
      "text/plain": [
       "<Figure size 1800x1080 with 6 Axes>"
      ]
     },
     "metadata": {
      "needs_background": "light"
     },
     "output_type": "display_data"
    }
   ],
   "source": [
    "vis()"
   ]
  },
  {
   "cell_type": "markdown",
   "metadata": {},
   "source": [
    "## 配色"
   ]
  },
  {
   "cell_type": "code",
   "execution_count": 97,
   "metadata": {
    "ExecuteTime": {
     "end_time": "2019-06-12T08:47:46.808046Z",
     "start_time": "2019-06-12T08:47:46.653425Z"
    }
   },
   "outputs": [
    {
     "data": {
      "image/png": "[encoded data removed]",
      "text/plain": [
       "<Figure size 432x288 with 1 Axes>"
      ]
     },
     "metadata": {},
     "output_type": "display_data"
    }
   ],
   "source": [
    "import seaborn as sns\n",
    "sns.set(style=\"whitegrid\")\n",
    "sns.set_palette(\"muted\",1,0.7)\n",
    "ax = sns.barplot(x=\"judge_flag\", y=\"val\", hue=\"\", data=k562_info)"
   ]
  },
  {
   "cell_type": "code",
   "execution_count": null,
   "metadata": {
    "ExecuteTime": {
     "end_time": "2019-06-08T07:43:45.272871Z",
     "start_time": "2019-06-08T07:43:45.261778Z"
    }
   },
   "outputs": [],
   "source": []
  },
  {
   "cell_type": "code",
   "execution_count": null,
   "metadata": {
    "ExecuteTime": {
     "end_time": "2019-06-08T07:43:49.035646Z",
     "start_time": "2019-06-08T07:43:49.012593Z"
    }
   },
   "outputs": [],
   "source": []
  }
 ],
 "metadata": {
  "kernelspec": {
   "display_name": "Python 3",
   "language": "python",
   "name": "python3"
  },
  "language_info": {
   "codemirror_mode": {
    "name": "ipython",
    "version": 3
   },
   "file_extension": ".py",
   "mimetype": "text/x-python",
   "name": "python",
   "nbconvert_exporter": "python",
   "pygments_lexer": "ipython3",
   "version": "3.7.3"
  },
  "varInspector": {
   "cols": {
    "lenName": 16,
    "lenType": 16,
    "lenVar": 40
   },
   "kernels_config": {
    "python": {
     "delete_cmd_postfix": "",
     "delete_cmd_prefix": "del ",
     "library": "var_list.py",
     "varRefreshCmd": "print(var_dic_list())"
    },
    "r": {
     "delete_cmd_postfix": ") ",
     "delete_cmd_prefix": "rm(",
     "library": "var_list.r",
     "varRefreshCmd": "cat(var_dic_list()) "
    }
   },
   "types_to_exclude": [
    "module",
    "function",
    "builtin_function_or_method",
    "instance",
    "_Feature"
   ],
   "window_display": false
  }
 },
 "nbformat": 4,
 "nbformat_minor": 2
}
