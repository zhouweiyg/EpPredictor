{
 "cells": [
  {
   "cell_type": "code",
   "execution_count": 2,
   "metadata": {
    "ExecuteTime": {
     "end_time": "2019-08-18T04:32:16.890698Z",
     "start_time": "2019-08-18T04:32:16.643634Z"
    }
   },
   "outputs": [],
   "source": [
    "\n",
    "import pandas as pd\n",
    "import sys\n",
    "import os\n",
    "import numpy as np\n",
    "\n",
    "\n",
    "GTF_FILE_PATH = '../data/gtf/Homo_sapiens.GRCh37.87.chr.gtf'\n",
    "K562_EP_PATH = '../../data/k562/midfile/hic_ep.csv'\n",
    "IMR90_EP_PATH = '../../data/IMR90/midfile/hic_ep.csv'\n",
    "GM12878_EP_PATH = '../../data/GM12878/midfile/hic_ep.csv'"
   ]
  },
  {
   "cell_type": "code",
   "execution_count": 2,
   "metadata": {
    "ExecuteTime": {
     "end_time": "2019-08-18T04:13:39.045964Z",
     "start_time": "2019-08-18T04:13:39.031821Z"
    }
   },
   "outputs": [],
   "source": [
    "\n",
    "\n",
    "def read_gtf():\n",
    "\tgtf_df = pd.read_csv(GTF_FILE_PATH,sep='\\t',skiprows=5,header=None)\n",
    "\tgtf_df = gtf_df.rename(columns={0:'chrom-Enh',1:'method',2:'type',\n",
    "\t\t\t\t\t\t\t\t\t3:'start_loc',4:'end_loc',6:'biochain',\n",
    "\t\t\t\t\t\t\t\t\t8:'Transcript'})\n",
    "\trebuild_information = []\n",
    "\tfor item in gtf_df['Transcript'].values:\n",
    "\t\titem = item.split(';')[2]\n",
    "\t\titem = item.split(' ')[2].strip('\"')\n",
    "\t\trebuild_information.append(item)\n",
    "\tgtf_df['Transcript'] = rebuild_information\n",
    "\n",
    "\tpromoter_loc_vec = []\n",
    "\tfor item in gtf_df[['start_loc','end_loc','biochain']].values:\n",
    "\t\tif item[2] is '+':\n",
    "\t\t\tpromoter_loc_vec.append(item[0])\n",
    "\t\telif item[2] is '-':\n",
    "\t\t\tpromoter_loc_vec.append(item[1])\n",
    "\t\telse:\n",
    "\t\t\tprint(\"something wrong when judge bio chain\")\n",
    "\t\t\tsys.exit(1)\n",
    "\tgtf_df['chrom-Enh'] = gtf_df['chrom-Enh'].astype(str)    \n",
    "\tgtf_df['chrom-Enh'] = 'chr'+gtf_df['chrom-Enh']\n",
    "\tgtf_df['TSS'] = promoter_loc_vec\n",
    "\treturn gtf_df"
   ]
  },
  {
   "cell_type": "code",
   "execution_count": 66,
   "metadata": {
    "ExecuteTime": {
     "end_time": "2019-03-27T11:34:26.635581Z",
     "start_time": "2019-03-27T11:34:05.639926Z"
    }
   },
   "outputs": [
    {
     "name": "stderr",
     "output_type": "stream",
     "text": [
      "/opt/current-env/anaconda3/lib/python3.6/site-packages/IPython/core/interactiveshell.py:2901: DtypeWarning: Columns (0) have mixed types. Specify dtype option on import or set low_memory=False.\n",
      "  if self.run_code(code, result):\n"
     ]
    }
   ],
   "source": [
    "gtf_df = read_gtf()\n",
    "gtf_df = gtf_df[gtf_df['type']=='transcript']"
   ]
  },
  {
   "cell_type": "code",
   "execution_count": null,
   "metadata": {
    "ExecuteTime": {
     "end_time": "2019-03-27T11:35:30.067544Z",
     "start_time": "2019-03-27T11:35:30.046925Z"
    },
    "scrolled": true
   },
   "outputs": [],
   "source": []
  },
  {
   "cell_type": "code",
   "execution_count": 89,
   "metadata": {
    "ExecuteTime": {
     "end_time": "2019-03-27T12:52:48.086064Z",
     "start_time": "2019-03-27T12:52:47.924024Z"
    }
   },
   "outputs": [],
   "source": [
    "ep_df = pd.read_csv(GM12878_EP_PATH,sep=',')\n",
    "#ep_df.sort_values(by=['chromEnd'],ascending=True).drop_duplicates(['chromStart','chromEnd'])"
   ]
  },
  {
   "cell_type": "code",
   "execution_count": null,
   "metadata": {
    "ExecuteTime": {
     "end_time": "2019-03-27T12:27:16.510511Z",
     "start_time": "2019-03-27T12:27:16.504126Z"
    }
   },
   "outputs": [],
   "source": []
  },
  {
   "cell_type": "code",
   "execution_count": null,
   "metadata": {
    "ExecuteTime": {
     "end_time": "2019-03-27T12:24:16.538837Z",
     "start_time": "2019-03-27T12:24:16.461941Z"
    }
   },
   "outputs": [],
   "source": []
  },
  {
   "cell_type": "code",
   "execution_count": null,
   "metadata": {
    "ExecuteTime": {
     "end_time": "2019-03-27T11:35:36.290177Z",
     "start_time": "2019-03-27T11:35:36.284630Z"
    }
   },
   "outputs": [],
   "source": []
  },
  {
   "cell_type": "code",
   "execution_count": 76,
   "metadata": {
    "ExecuteTime": {
     "end_time": "2019-03-27T11:37:08.080795Z",
     "start_time": "2019-03-27T11:37:06.747991Z"
    },
    "scrolled": true
   },
   "outputs": [
    {
     "name": "stdout",
     "output_type": "stream",
     "text": [
      "(20469,)\n",
      "(20469,)\n"
     ]
    }
   ],
   "source": [
    "print(np.intersect1d(gtf_df['Transcript'],ep_df['Transcript']).shape)\n",
    "print(np.unique(ep_df['Transcript']).shape)\n",
    "inter_sec = np.intersect1d(gtf_df['Transcript'],ep_df['Transcript'])\n",
    "tss_inter_sec = np.intersect1d(gtf_df['TSS'],ep_df['TSS'])"
   ]
  },
  {
   "cell_type": "code",
   "execution_count": 81,
   "metadata": {
    "ExecuteTime": {
     "end_time": "2019-03-27T11:38:32.087029Z",
     "start_time": "2019-03-27T11:38:31.999670Z"
    }
   },
   "outputs": [],
   "source": [
    "transcript_inter_sec = np.intersect1d(gtf_df['Transcript'],ep_df['Transcript'])#交集\n",
    "\n",
    "tss_inter_sec = np.intersect1d(gtf_df['TSS'],ep_df['TSS'])\n",
    "\n",
    "\n",
    "fake_ep_1 = gtf_df[~(gtf_df['Transcript'].isin(transcript_inter_sec))]\n",
    "fake_ep_2 = gtf_df[~(gtf_df['Transcript'].isin(transcript_inter_sec) & gtf_df['TSS'].isin(tss_inter_sec) )]"
   ]
  },
  {
   "cell_type": "code",
   "execution_count": 82,
   "metadata": {
    "ExecuteTime": {
     "end_time": "2019-03-27T11:38:34.173950Z",
     "start_time": "2019-03-27T11:38:34.168613Z"
    }
   },
   "outputs": [
    {
     "data": {
      "text/plain": [
       "(176365, 10)"
      ]
     },
     "execution_count": 82,
     "metadata": {},
     "output_type": "execute_result"
    }
   ],
   "source": [
    "rest_sp.shape"
   ]
  },
  {
   "cell_type": "code",
   "execution_count": 75,
   "metadata": {
    "ExecuteTime": {
     "end_time": "2019-03-27T11:36:06.359566Z",
     "start_time": "2019-03-27T11:36:06.354112Z"
    }
   },
   "outputs": [
    {
     "data": {
      "text/plain": [
       "(79564, 10)"
      ]
     },
     "execution_count": 75,
     "metadata": {},
     "output_type": "execute_result"
    }
   ],
   "source": [
    "ep_df.shape"
   ]
  },
  {
   "cell_type": "code",
   "execution_count": 90,
   "metadata": {
    "ExecuteTime": {
     "end_time": "2019-03-27T12:53:15.349727Z",
     "start_time": "2019-03-27T12:53:15.334616Z"
    }
   },
   "outputs": [],
   "source": [
    "def generate_fake_ep(celline):\n",
    "\t\n",
    "\t\"\"\"\n",
    "\t根据enhancer-promoter的距离分布\n",
    "\t选择负样本 均值为10000，选择8000~12000距离内的Promoter与已有的enhancer配对\n",
    "\t\"\"\"\n",
    "\tdef vec2str(vec):\n",
    "\t\tvec = [str(x) for x in vec]\n",
    "\t\tvec = \" \".join(vec)\n",
    "\t\treturn vec\n",
    "\n",
    "\t#gtf_df = read_gtf()\n",
    "\t#gtf_df = gtf_df[gtf_df['type']=='transcript']\n",
    "\n",
    "\tsave_path = None\n",
    "\tep_df = None\n",
    "\tif celline == 'K562':\n",
    "\t\tep_df = pd.read_csv(K562_EP_PATH,sep=',')\n",
    "\t\tsave_path = '../data/K562/midfile/hic_ep.csv'\n",
    "\telif celline == 'GM12878':\n",
    "\t\tep_df = pd.read_csv(GM12878_EP_PATH, sep=',')\n",
    "\t\tsave_path = '../data/GM12878/midfile/hic_ep.csv'\n",
    "\telif celline == 'IMR90':\n",
    "\t\tep_df = pd.read_csv(IMR90_EP_PATH, sep=',')\n",
    "\t\tsave_path = '../data/IMR90/midfile/hic_ep.csv'\n",
    "\telse:\n",
    "\t\tprint('wrong parameters, parameters should be K562 GM12878 or IMR90')\n",
    "\t\tsys.exit(1)\n",
    "\n",
    "\t#unique_geneid_vec = np.unique(ep_df['Transcript'])\n",
    "\ttranscript_inter_sec = np.intersect1d(gtf_df['Transcript'],ep_df['Transcript'])\n",
    "\t\n",
    "\tsub_gtf_df = gtf_df[~(gtf_df['Transcript'].isin(transcript_inter_sec))]\n",
    "\tsub_gtf_df = sub_gtf_df.sort_values(by=['TSS'],ascending=True).drop_duplicates(['TSS'])\n",
    "\tsub_gtf_df['TSS'] = sub_gtf_df['TSS'].astype(int)\n",
    "\n",
    "\treal_ep_df = ep_df[['chrom-Enh','chromStart','chromEnd','TSS']]\n",
    "\treal_ep_df = real_ep_df.sort_values(by=['chromEnd'],ascending=True).drop_duplicates(['chromStart','chromEnd'])\n",
    "\treal_ep_df['chromEnd'] = real_ep_df['chromEnd'].astype(int)\n",
    "\n",
    "\tarrived_index = 0;\n",
    "\tsub_gtf_df_tss_loc_vec = sub_gtf_df['TSS'].values\n",
    "\tfake_ep_df = []\n",
    "\tstatistics_vec = []\n",
    "\tfor item in real_ep_df.values:\n",
    "\t\ttmp_fake_ep = [item[0],item[1],item[2]] \n",
    "\t\treal_ep_enhancer_loc = item[2]\n",
    "\t\tfor gtf_tss in sub_gtf_df_tss_loc_vec[arrived_index:]:\n",
    "\t\t\tstatistics_vec.append(abs(real_ep_enhancer_loc-gtf_tss))\n",
    "\t\t\t\t#tmp_fake_ep.append(gtf_tss)\n",
    "\t\t\t\t#fake_ep_df.append(tmp_fake_ep)\n",
    "\t\t\t\t#break\n",
    "\t\t\t#arrived_index+=1\n",
    "\t#fake_ep_df = pd.DataFrame(fake_ep_df,columns=['chrom-Enh','chromStart','chromEnd','TSS'])\n",
    "\t#print(fake_ep_df.shape)\n",
    "\t#print(real_ep_df.shape)\n",
    "\t#print(fake_ep_df)\n",
    "\n",
    "\treturn statistics_vec\n",
    "\t#real_feak_ep_df.to_csv(save_path,index=False)    \n",
    "\t#print('cell {} fake ep and real ep has been matched'.format(celline))"
   ]
  },
  {
   "cell_type": "code",
   "execution_count": null,
   "metadata": {
    "ExecuteTime": {
     "start_time": "2019-03-27T12:54:30.424Z"
    }
   },
   "outputs": [],
   "source": [
    "statistic_vec=generate_fake_ep('K562')"
   ]
  },
  {
   "cell_type": "code",
   "execution_count": null,
   "metadata": {
    "ExecuteTime": {
     "start_time": "2019-03-27T12:55:32.412Z"
    }
   },
   "outputs": [],
   "source": [
    "statistic_vec = pd.DataFrame(statistic_vec,columns=['statistic'])"
   ]
  },
  {
   "cell_type": "code",
   "execution_count": null,
   "metadata": {
    "ExecuteTime": {
     "start_time": "2019-03-27T12:55:44.201Z"
    }
   },
   "outputs": [],
   "source": [
    "statistic_vec.describe()"
   ]
  },
  {
   "cell_type": "code",
   "execution_count": null,
   "metadata": {},
   "outputs": [],
   "source": []
  },
  {
   "cell_type": "code",
   "execution_count": null,
   "metadata": {},
   "outputs": [],
   "source": []
  },
  {
   "cell_type": "markdown",
   "metadata": {
    "ExecuteTime": {
     "end_time": "2019-08-18T04:14:06.099675Z",
     "start_time": "2019-08-18T04:14:06.096453Z"
    }
   },
   "source": [
    "# 统计缺失蛋白"
   ]
  },
  {
   "cell_type": "code",
   "execution_count": 8,
   "metadata": {
    "ExecuteTime": {
     "end_time": "2019-08-18T05:23:30.719379Z",
     "start_time": "2019-08-18T05:23:30.585063Z"
    }
   },
   "outputs": [],
   "source": [
    "protine_info = pd.read_excel('../../data//protine_info.xlsx')"
   ]
  },
  {
   "cell_type": "code",
   "execution_count": 39,
   "metadata": {
    "ExecuteTime": {
     "end_time": "2019-08-18T04:30:51.114383Z",
     "start_time": "2019-08-18T04:30:51.107061Z"
    }
   },
   "outputs": [],
   "source": []
  },
  {
   "cell_type": "code",
   "execution_count": 9,
   "metadata": {
    "ExecuteTime": {
     "end_time": "2019-08-18T05:23:32.243671Z",
     "start_time": "2019-08-18T05:23:32.236291Z"
    }
   },
   "outputs": [],
   "source": [
    "protine_info = protine_info[protine_info['Biosample ']!='A549']\n",
    "accessions = np.unique(protine_info['Accession'])"
   ]
  },
  {
   "cell_type": "code",
   "execution_count": 12,
   "metadata": {
    "ExecuteTime": {
     "end_time": "2019-08-18T05:23:39.062155Z",
     "start_time": "2019-08-18T05:23:39.044397Z"
    }
   },
   "outputs": [],
   "source": [
    "haved_accessions = os.listdir('../../data/allbed/') \n",
    "haved_accessions = [x.strip('.bed') for x in haved_accessions]\n",
    "\n",
    "lack_accessions = []\n",
    "for item in accessions:\n",
    "    if item not in haved_accessions:\n",
    "        lack_accessions.append(item)"
   ]
  },
  {
   "cell_type": "code",
   "execution_count": 11,
   "metadata": {
    "ExecuteTime": {
     "end_time": "2019-08-18T05:23:37.864672Z",
     "start_time": "2019-08-18T05:23:37.859394Z"
    }
   },
   "outputs": [
    {
     "data": {
      "text/plain": [
       "0"
      ]
     },
     "execution_count": 11,
     "metadata": {},
     "output_type": "execute_result"
    }
   ],
   "source": [
    "len(lack_accessions)"
   ]
  },
  {
   "cell_type": "code",
   "execution_count": 6,
   "metadata": {
    "ExecuteTime": {
     "end_time": "2019-08-18T04:32:27.739477Z",
     "start_time": "2019-08-18T04:32:27.723445Z"
    }
   },
   "outputs": [
    {
     "data": {
      "text/plain": [
       "[]"
      ]
     },
     "execution_count": 6,
     "metadata": {},
     "output_type": "execute_result"
    }
   ],
   "source": [
    "lack_accessions"
   ]
  },
  {
   "cell_type": "code",
   "execution_count": null,
   "metadata": {},
   "outputs": [],
   "source": []
  }
 ],
 "metadata": {
  "kernelspec": {
   "display_name": "Python 3",
   "language": "python",
   "name": "python3"
  },
  "language_info": {
   "codemirror_mode": {
    "name": "ipython",
    "version": 3
   },
   "file_extension": ".py",
   "mimetype": "text/x-python",
   "name": "python",
   "nbconvert_exporter": "python",
   "pygments_lexer": "ipython3",
   "version": "3.7.3"
  },
  "varInspector": {
   "cols": {
    "lenName": 16,
    "lenType": 16,
    "lenVar": 40
   },
   "kernels_config": {
    "python": {
     "delete_cmd_postfix": "",
     "delete_cmd_prefix": "del ",
     "library": "var_list.py",
     "varRefreshCmd": "print(var_dic_list())"
    },
    "r": {
     "delete_cmd_postfix": ") ",
     "delete_cmd_prefix": "rm(",
     "library": "var_list.r",
     "varRefreshCmd": "cat(var_dic_list()) "
    }
   },
   "types_to_exclude": [
    "module",
    "function",
    "builtin_function_or_method",
    "instance",
    "_Feature"
   ],
   "window_display": false
  }
 },
 "nbformat": 4,
 "nbformat_minor": 2
}
